{
 "cells": [
  {
   "cell_type": "code",
   "execution_count": 936,
   "metadata": {
    "collapsed": true
   },
   "outputs": [],
   "source": [
    "import pandas as pd\n",
    "import numpy as np\n",
    "import matplotlib.pyplot as plt\n",
    "from mpl_toolkits.mplot3d import Axes3D\n",
    "from scipy import stats\n",
    "from sklearn.linear_model import Lasso\n",
    "from IPython.display import display, HTML\n",
    "\n",
    "%matplotlib inline"
   ]
  },
  {
   "cell_type": "markdown",
   "metadata": {},
   "source": [
    "## Convert Categorical Data to Dummy Variables"
   ]
  },
  {
   "cell_type": "code",
   "execution_count": 937,
   "metadata": {
    "collapsed": false
   },
   "outputs": [],
   "source": [
    "def categoricalColumnNames(columnName, attributeList):\n",
    "    return ['{}_{}'.format(columnName, attribute)\n",
    "            for attribute in attributeList]\n",
    "\n",
    "\n",
    "# def categoricalVectors(attributeList):\n",
    "#     return [np.zeros(len(attrValues) - 1) for attr in attributeList]\n",
    "    \n",
    "\n",
    "# Convert nominal variable x to its dummy vector variable representation\n",
    "def _convertNominalVariable(dataFrame, columnName):\n",
    "    attrValues = dataFrame[columnName].unique()\n",
    "    newColumns = categoricalColumnNames(columnName, attrValues)\n",
    "    encodingList = [np.zeros(len(attrValues) - 1) for attr in attrValues]\n",
    "    \n",
    "    for newColumn, value in zip(newColumns, attrValues):\n",
    "        dataFrame[newColumn] = pd.Series(dtype=np.int64)\n",
    "        dataFrame.loc[dataFrame[columnName] == value, newColumn] = int(1)\n",
    "        dataFrame.loc[dataFrame[columnName] != value, newColumn] = int(0)\n",
    "    \n",
    "    for i in range(1, len(attrValues)):\n",
    "        encodedAttr = encodingList[i]\n",
    "        encodedAttr[i - 1] = int(1)\n",
    "    \n",
    "    return dataFrame\n",
    "\n",
    "\n",
    "def convertNominalVariables(dataFrame, columnList):\n",
    "    newDf = pd.DataFrame(dataFrame)\n",
    "    \n",
    "    for attribute in columnList:\n",
    "        newDf = _convertNominalVariable(newDf, attribute)\n",
    "    return newDf\n",
    "        \n",
    "    \n",
    "# Convert ordinal variable x to its dummy vector variable representation\n",
    "def _convertOrdinalVariable(dataFrame, columnName, orderedAttributes):\n",
    "    oneHotDf = _convertNominalVariable(dataFrame, columnName)\n",
    "    newAttrNames = categoricalColumnNames(columnName, orderedAttributes)\n",
    "    attrIndices = {}\n",
    "    \n",
    "    for i, attr in enumerate(orderedAttributes):\n",
    "        attrIndices[attr] = int(i)\n",
    "    \n",
    "    for i, newOldAttr in enumerate(zip(orderedAttributes, newAttrNames)):\n",
    "        oldAttr, newAttr = newOldAttr\n",
    "        \n",
    "        for attrName in newAttrNames[:i]:\n",
    "            oneHotDf.loc[oneHotDf[columnName] == oldAttr, attrName] = int(1)\n",
    "    return oneHotDf"
   ]
  },
  {
   "cell_type": "markdown",
   "metadata": {},
   "source": [
    "## Evaluation Measures"
   ]
  },
  {
   "cell_type": "code",
   "execution_count": 938,
   "metadata": {
    "collapsed": false
   },
   "outputs": [],
   "source": [
    "def checkR2(x, y):\n",
    "    slope, intercept, r2, p_val, std_err = stats.linregress(x, y)\n",
    "    print('slope={}, intercept={}, R2={}'.format(slope, intercept, r2 ** 2))\n",
    "    \n",
    "# Returns 2 measures of R2: (1 - SSE / SST, SSR / SST)\n",
    "def computeR2(x, y, beta, insertOnes=True):\n",
    "    yMean = np.mean(y)\n",
    "#     print('Y:', y)\n",
    "#     print('Y mean:', yMean)\n",
    "    yPredicted = np.array([linRegEstimate(xVal, beta, insertOnes) for xVal in x])\n",
    "#     print('Y predicted:', yPredicted)\n",
    "    ssTotal = np.sum(np.square(y - yMean))\n",
    "    ssRegression = np.sum(np.square(yPredicted - yMean))\n",
    "    ssError = np.sum(np.square(y - yPredicted))\n",
    "#     print('SST={}, SSR={}, SSE={}'.format(ssTotal, ssRegression, ssError))\n",
    "    \n",
    "    return 1 - ssError / ssRegression\n",
    "\n",
    "\"\"\"\n",
    "Computes the accuracy, precision, recall, and F-score of a dataframe\n",
    "Params:\n",
    "    testDf: pandas.DataFrame\n",
    "    predictedDf: pandas.DataFrame\n",
    "Returns: (accuracy, precision, recall, F-score)\n",
    "\"\"\"\n",
    "def scoreLogClassification(testVals, predictedVals):\n",
    "    tp = tn = fp = fn = 0\n",
    "    \n",
    "    for testVal, predictedVal in zip(testVals, predictedVals):\n",
    "        if testVal == predictedVal:\n",
    "            if testVal == 1:\n",
    "                tp += 1\n",
    "            else:\n",
    "                tn += 1\n",
    "        else:\n",
    "            if testVal == 1:\n",
    "                fn += 1\n",
    "            else:\n",
    "                fp += 1\n",
    "    \n",
    "    accuracy = (tp + tn) / len(testVals)\n",
    "    precision = tp / (tp + fp) if tp + fp > 0 else float('NaN')\n",
    "    recall = tp / (tp + fn) if tp + fn > 0 else float('NaN')\n",
    "    fScore = 2 * precision * recall / (precision + recall) if precision + recall > 0 else float('NaN')\n",
    "    \n",
    "    return accuracy, precision, recall, fScore"
   ]
  },
  {
   "cell_type": "markdown",
   "metadata": {},
   "source": [
    "## Linear Regression Functions"
   ]
  },
  {
   "cell_type": "code",
   "execution_count": 939,
   "metadata": {
    "collapsed": false
   },
   "outputs": [],
   "source": [
    "\"\"\"\n",
    "inputVals: vector in form of [x1, x2, ..., xn]\n",
    "beta: vector of beta coefficients in form [b0, b1, b2, ..., bn]\n",
    "\"\"\"\n",
    "def linRegEstimate(inputVals, beta, insertOnes=True):\n",
    "    if insertOnes:\n",
    "        inputMatrix = np.insert(inputVals, 0, 1)\n",
    "    else:\n",
    "        inputMatrix = np.array(inputVals)\n",
    "    return np.sum(inputMatrix * beta)\n",
    "\n",
    "\n",
    "\"\"\"\n",
    "matrix: matrix of points in form [[x1, x2, ..., xn], ...]\n",
    "returns: (beta, pearsonCorrelation) tuple\n",
    "\"\"\"\n",
    "def computeLinRegBeta(x, y):\n",
    "    # Reshape 1-D arrays to column format\n",
    "    if len(x.shape) == 1:\n",
    "        x = x.reshape(-1, 1)\n",
    "        \n",
    "    m = len(x)\n",
    "    newX = np.insert(x, 0, np.ones(m), axis=1)\n",
    "    \n",
    "    # Reshape y from vector to 1-D matrix rows\n",
    "    newY = y.reshape(-1, 1)\n",
    "#     print('Y:', newY)\n",
    "    xTxInverse = np.linalg.inv(newX.T.dot(newX))\n",
    "    beta = xTxInverse.dot(newX.T).dot(newY)\n",
    "#     print('x.T:', x)\n",
    "#     print('y.T[0]:', y)\n",
    "    return beta.T[0], np.corrcoef(x.T, newY.T[0])[0, 1] ** 2"
   ]
  },
  {
   "cell_type": "markdown",
   "metadata": {},
   "source": [
    "# Logistic Regression"
   ]
  },
  {
   "cell_type": "code",
   "execution_count": 940,
   "metadata": {
    "collapsed": false
   },
   "outputs": [],
   "source": [
    "\"\"\"\n",
    "Returns a function that takes a vector X (same dimensions as parameter x),\n",
    "    and predicts class 0 or 1 based on X.\n",
    "    Return type: (function, R^2 correlation)\n",
    "Params:\n",
    "    x: input vector\n",
    "    y: 1-D class vector of 0s and 1s\n",
    "\"\"\"\n",
    "def getLogisticRegFunc(x, y):\n",
    "    beta, correlation = computeLinRegBeta(x, y)\n",
    "    def logRegEstimate(xVector):\n",
    "        estimate = 1 / (1 + np.exp(linRegEstimate(xVector, beta)))\n",
    "        return estimate, int(round(estimate))\n",
    "    return logRegEstimate, correlation"
   ]
  },
  {
   "cell_type": "markdown",
   "metadata": {},
   "source": [
    "# Utilities"
   ]
  },
  {
   "cell_type": "code",
   "execution_count": 941,
   "metadata": {
    "collapsed": true
   },
   "outputs": [],
   "source": [
    "def plotSingleVarRegressions(xCols, yCol):\n",
    "    yColValues = yCol.as_matrix()\n",
    "    \n",
    "    for col in xCols:\n",
    "        colValues = col.as_matrix()\n",
    "        colBetas, colCorrelation = computeLinRegBeta(colValues, yColValues)\n",
    "\n",
    "        xMin = colValues.min()\n",
    "        xMax = colValues.max()\n",
    "        xRange = np.arange(xMin * .85, xMax * 1.15, (xMax - xMin) / 10)\n",
    "        predictedLine = [linRegEstimate([x], colBetas) for x in xRange]\n",
    "\n",
    "        fig = plt.figure()\n",
    "        graph = fig.add_subplot(111)\n",
    "        fig.suptitle('Predicting {} levels from {} levels'.format(yCol.name, col.name),\n",
    "                    y=1.08, fontsize=14, fontweight='bold')\n",
    "        graph.set_title('Beta: {}, R2: {}'.format(colBetas, colCorrelation))\n",
    "        graph.title.set_position([0.5, 1.05])\n",
    "        graph.set_ylabel(yCol.name)\n",
    "        graph.set_xlabel(col.name)\n",
    "        graph.plot(colValues, yColValues, 'bo', xRange, predictedLine, 'r-', linewidth=3.0)\n",
    "        \n",
    "def getDfNamesByType(df):\n",
    "    columnNamesByType = df.columns.to_series().groupby(df.dtypes).groups\n",
    "    return {key.name: val for key, val in columnNamesByType.items()}\n",
    "\n",
    "def displayBetaTable(attrNames, beta):\n",
    "    betaAttrMap = {attr: beta for attr, beta in zip(['Intercept'] + attrNames, beta)}\n",
    "    display(pd.DataFrame(betaAttrMap, index=np.arange(1)))"
   ]
  },
  {
   "cell_type": "markdown",
   "metadata": {},
   "source": [
    "# Gradient Descent"
   ]
  },
  {
   "cell_type": "code",
   "execution_count": 942,
   "metadata": {
    "collapsed": true
   },
   "outputs": [],
   "source": [
    "def gradientDescent(data, learningRate):\n",
    "    gradient = np.gradient(np.array(data))"
   ]
  },
  {
   "cell_type": "markdown",
   "metadata": {},
   "source": [
    "# Air Quality UCI Set\n",
    "### Source: UCI ML Repository https://archive.ics.uci.edu/ml/datasets/Air+Quality"
   ]
  },
  {
   "cell_type": "code",
   "execution_count": 943,
   "metadata": {
    "collapsed": false
   },
   "outputs": [],
   "source": [
    "convertEuropeanFloats = lambda val: float(val.replace(',', '.'))\n",
    "airQualityDf = pd.read_csv('data/AirQualityUCI.csv', sep=';',\n",
    "                           converters={\n",
    "        'CO(GT)': convertEuropeanFloats,\n",
    "        'C6H6(GT)': convertEuropeanFloats,\n",
    "        'T': convertEuropeanFloats,\n",
    "        'RH': convertEuropeanFloats\n",
    "    })\n",
    "airQualityDf.drop(['Unnamed: 15', 'Unnamed: 16'], axis=1, inplace=True)\n",
    "\n",
    "columnNamesByType = getDfNamesByType(airQualityDf)\n",
    "airQualityXColNames = [col for col in list(columnNamesByType['float64']) + list(columnNamesByType['int64'])\n",
    "                      if col != 'CO(GT)']\n",
    "airQualityDf.drop(airQualityDf[airQualityDf['CO(GT)'] == -200.0].index, inplace=True)\n",
    "\n",
    "for xCol in airQualityXColNames:\n",
    "    # -200 means missing value\n",
    "    airQualityDf.drop(airQualityDf[airQualityDf[xCol] == -200.0].index, inplace=True)"
   ]
  },
  {
   "cell_type": "code",
   "execution_count": 944,
   "metadata": {
    "collapsed": false
   },
   "outputs": [],
   "source": [
    "airQualityY = airQualityDf['CO(GT)']\n",
    "airQualityXCols = [airQualityDf[attr]\n",
    "                   for attr in airQualityXColNames]\n",
    "\n",
    "COValues = airQualityY.as_matrix()\n",
    "# plotSingleVarRegressions(airQualityXCols, airQualityY)"
   ]
  },
  {
   "cell_type": "markdown",
   "metadata": {},
   "source": [
    "## Predicting CO Concentration from C6H6 (Benzene) Concentration\n",
    "### Benzene is a highly flammable core component of gasoline"
   ]
  },
  {
   "cell_type": "code",
   "execution_count": 945,
   "metadata": {
    "collapsed": false,
    "scrolled": false
   },
   "outputs": [
    {
     "data": {
      "text/html": [
       "<div>\n",
       "<table border=\"1\" class=\"dataframe\">\n",
       "  <thead>\n",
       "    <tr style=\"text-align: right;\">\n",
       "      <th></th>\n",
       "      <th>C6H6(GT)</th>\n",
       "      <th>Intercept</th>\n",
       "    </tr>\n",
       "  </thead>\n",
       "  <tbody>\n",
       "    <tr>\n",
       "      <th>0</th>\n",
       "      <td>0.184812</td>\n",
       "      <td>0.362939</td>\n",
       "    </tr>\n",
       "  </tbody>\n",
       "</table>\n",
       "</div>"
      ],
      "text/plain": [
       "   C6H6(GT)  Intercept\n",
       "0  0.184812   0.362939"
      ]
     },
     "metadata": {},
     "output_type": "display_data"
    },
    {
     "name": "stdout",
     "output_type": "stream",
     "text": [
      "C6H6(GT) to predict CO(GT) R^2: 0.946066616914\n"
     ]
    },
    {
     "data": {
      "text/plain": [
       "<matplotlib.text.Text at 0x7f3c3b867470>"
      ]
     },
     "execution_count": 945,
     "metadata": {},
     "output_type": "execute_result"
    },
    {
     "data": {
      "image/png": "[encoded data removed]",
      "text/plain": [
       "<matplotlib.figure.Figure at 0x7f3c40bbc748>"
      ]
     },
     "metadata": {},
     "output_type": "display_data"
    }
   ],
   "source": [
    "c6h6GTValues = airQualityDf['C6H6(GT)'].as_matrix()\n",
    "c6h6VsCOBetas, c6h6VsCOCorrelation = computeLinRegBeta(c6h6GTValues, COValues)\n",
    "displayBetaTable(airQualityXColNames, c6h6VsCOBetas)\n",
    "print('C6H6(GT) to predict CO(GT) R^2:', c6h6VsCOCorrelation)\n",
    "# print('C6H6(GT) to CO(GT) beta:', c6h6VsCOBetas)\n",
    "\n",
    "xRange = np.arange(0, 70, 5)\n",
    "predictedLine = [linRegEstimate([c6h6], c6h6VsCOBetas) for c6h6 in xRange]\n",
    "\n",
    "plt.plot(c6h6GTValues, COValues, 'bo', xRange, predictedLine, 'r-', linewidth=3.0)\n",
    "plt.title('Predicting CO content from C6H6 content')\n",
    "plt.xlabel('C6H6 (microgram/m^3)')\n",
    "plt.ylabel('CO (mg/m^3)')"
   ]
  },
  {
   "cell_type": "markdown",
   "metadata": {
    "collapsed": true
   },
   "source": [
    "# Bivariate Case\n",
    "## Predicting CO Levels from Benzene and Titania (PT08.S2) Levels"
   ]
  },
  {
   "cell_type": "code",
   "execution_count": 946,
   "metadata": {
    "collapsed": false,
    "scrolled": false
   },
   "outputs": [
    {
     "data": {
      "text/html": [
       "<div>\n",
       "<table border=\"1\" class=\"dataframe\">\n",
       "  <thead>\n",
       "    <tr style=\"text-align: right;\">\n",
       "      <th></th>\n",
       "      <th>C6H6(GT)</th>\n",
       "      <th>PT08.S2(NMHC)</th>\n",
       "      <th>CO(GT)</th>\n",
       "    </tr>\n",
       "  </thead>\n",
       "  <tbody>\n",
       "    <tr>\n",
       "      <th>0</th>\n",
       "      <td>11.9</td>\n",
       "      <td>1046</td>\n",
       "      <td>2.6</td>\n",
       "    </tr>\n",
       "    <tr>\n",
       "      <th>1</th>\n",
       "      <td>9.4</td>\n",
       "      <td>955</td>\n",
       "      <td>2.0</td>\n",
       "    </tr>\n",
       "    <tr>\n",
       "      <th>2</th>\n",
       "      <td>9.0</td>\n",
       "      <td>939</td>\n",
       "      <td>2.2</td>\n",
       "    </tr>\n",
       "    <tr>\n",
       "      <th>3</th>\n",
       "      <td>9.2</td>\n",
       "      <td>948</td>\n",
       "      <td>2.2</td>\n",
       "    </tr>\n",
       "    <tr>\n",
       "      <th>4</th>\n",
       "      <td>6.5</td>\n",
       "      <td>836</td>\n",
       "      <td>1.6</td>\n",
       "    </tr>\n",
       "  </tbody>\n",
       "</table>\n",
       "</div>"
      ],
      "text/plain": [
       "   C6H6(GT)  PT08.S2(NMHC)  CO(GT)\n",
       "0      11.9           1046     2.6\n",
       "1       9.4            955     2.0\n",
       "2       9.0            939     2.2\n",
       "3       9.2            948     2.2\n",
       "4       6.5            836     1.6"
      ]
     },
     "metadata": {},
     "output_type": "display_data"
    },
    {
     "data": {
      "text/html": [
       "<div>\n",
       "<table border=\"1\" class=\"dataframe\">\n",
       "  <thead>\n",
       "    <tr style=\"text-align: right;\">\n",
       "      <th></th>\n",
       "      <th>C6H6(GT)</th>\n",
       "      <th>Intercept</th>\n",
       "      <th>PT08.S2(NMHC)</th>\n",
       "    </tr>\n",
       "  </thead>\n",
       "  <tbody>\n",
       "    <tr>\n",
       "      <th>0</th>\n",
       "      <td>0.181598</td>\n",
       "      <td>0.309765</td>\n",
       "      <td>0.000091</td>\n",
       "    </tr>\n",
       "  </tbody>\n",
       "</table>\n",
       "</div>"
      ],
      "text/plain": [
       "   C6H6(GT)  Intercept  PT08.S2(NMHC)\n",
       "0  0.181598   0.309765       0.000091"
      ]
     },
     "metadata": {},
     "output_type": "display_data"
    },
    {
     "data": {
      "image/png": "[encoded data removed]",
      "text/plain": [
       "<matplotlib.figure.Figure at 0x7f3c40187c18>"
      ]
     },
     "metadata": {},
     "output_type": "display_data"
    }
   ],
   "source": [
    "benzenePT08Df = airQualityDf[['C6H6(GT)', 'PT08.S2(NMHC)']]\n",
    "benzenePT08 = benzenePT08Df.as_matrix()\n",
    "benzenePT08Betas, benzenePT08Correlation = computeLinRegBeta(benzenePT08, COValues)\n",
    "\n",
    "benzeneMin = benzenePT08[:, 0].min()\n",
    "benzeneMax = benzenePT08[:, 0].max()\n",
    "PT08Min = benzenePT08[:, 1].min()\n",
    "PT08Max = benzenePT08[:, 1].max()\n",
    "\n",
    "benzeneDomain = np.arange(benzeneMin, benzeneMax, (benzeneMax - benzeneMin) / 10)\n",
    "PT08Domain = np.arange(PT08Min, PT08Max, (PT08Max - PT08Min) / 10)\n",
    "benzenePT08Domains = np.array([benzeneDomain, PT08Domain]).T\n",
    "benzenePT08PredictedCO = [linRegEstimate(xy, benzenePT08Betas)\n",
    "                          for xy in benzenePT08Domains]\n",
    "\n",
    "display(airQualityDf[['C6H6(GT)', 'PT08.S2(NMHC)', 'CO(GT)']].head())\n",
    "displayBetaTable(['C6H6(GT)', 'PT08.S2(NMHC)'], benzenePT08Betas)\n",
    "\n",
    "fig = plt.figure()\n",
    "fig.suptitle('Benzene and Titania to Predict CO Levels',\n",
    "             y=1.05, fontsize=14, fontweight='bold')\n",
    "\n",
    "benzPT08Plot = fig.add_subplot(111, projection='3d')\n",
    "benzPT08Plot.scatter(benzenePT08[:, 0], benzenePT08[:, 1], COValues)\n",
    "gridBenzPTO8, gridPT08Domain = np.meshgrid(benzeneDomain, PT08Domain)\n",
    "benzPT08Plot.plot_surface(gridBenzPTO8, gridPT08Domain, benzenePT08PredictedCO, color='r')\n",
    "benzPT08Plot.set_title('Beta: {}, R2: {}'.format(benzenePT08Betas, benzenePT08Correlation),\n",
    "                      y=1.05, fontsize=10)\n",
    "benzPT08Plot.set_xlabel('C6HG (microgram/m^3)', labelpad=10.5)\n",
    "benzPT08Plot.set_ylabel('PT08.S2', labelpad=10.5)\n",
    "benzPT08Plot.set_zlabel('CO mg/m^3')\n",
    "\n",
    "benzPT08Plot.set_yticks(np.arange(200, 2000, 400))\n",
    "benzPT08Plot.dist = 12\n",
    "\n",
    "plt.tight_layout()"
   ]
  },
  {
   "cell_type": "markdown",
   "metadata": {},
   "source": [
    "# Multivariate Linear Regression"
   ]
  },
  {
   "cell_type": "code",
   "execution_count": 947,
   "metadata": {
    "collapsed": false
   },
   "outputs": [
    {
     "data": {
      "text/html": [
       "<div>\n",
       "<table border=\"1\" class=\"dataframe\">\n",
       "  <thead>\n",
       "    <tr style=\"text-align: right;\">\n",
       "      <th></th>\n",
       "      <th>PT08.S2(NMHC)</th>\n",
       "      <th>C6H6(GT)</th>\n",
       "      <th>PT08.S1(CO)</th>\n",
       "      <th>NOx(GT)</th>\n",
       "      <th>NO2(GT)</th>\n",
       "    </tr>\n",
       "  </thead>\n",
       "  <tbody>\n",
       "    <tr>\n",
       "      <th>0</th>\n",
       "      <td>1046</td>\n",
       "      <td>11.9</td>\n",
       "      <td>1360</td>\n",
       "      <td>166</td>\n",
       "      <td>113</td>\n",
       "    </tr>\n",
       "    <tr>\n",
       "      <th>1</th>\n",
       "      <td>955</td>\n",
       "      <td>9.4</td>\n",
       "      <td>1292</td>\n",
       "      <td>103</td>\n",
       "      <td>92</td>\n",
       "    </tr>\n",
       "    <tr>\n",
       "      <th>2</th>\n",
       "      <td>939</td>\n",
       "      <td>9.0</td>\n",
       "      <td>1402</td>\n",
       "      <td>131</td>\n",
       "      <td>114</td>\n",
       "    </tr>\n",
       "    <tr>\n",
       "      <th>3</th>\n",
       "      <td>948</td>\n",
       "      <td>9.2</td>\n",
       "      <td>1376</td>\n",
       "      <td>172</td>\n",
       "      <td>122</td>\n",
       "    </tr>\n",
       "    <tr>\n",
       "      <th>4</th>\n",
       "      <td>836</td>\n",
       "      <td>6.5</td>\n",
       "      <td>1272</td>\n",
       "      <td>131</td>\n",
       "      <td>116</td>\n",
       "    </tr>\n",
       "  </tbody>\n",
       "</table>\n",
       "</div>"
      ],
      "text/plain": [
       "   PT08.S2(NMHC)  C6H6(GT)  PT08.S1(CO)  NOx(GT)  NO2(GT)\n",
       "0           1046      11.9         1360      166      113\n",
       "1            955       9.4         1292      103       92\n",
       "2            939       9.0         1402      131      114\n",
       "3            948       9.2         1376      172      122\n",
       "4            836       6.5         1272      131      116"
      ]
     },
     "metadata": {},
     "output_type": "display_data"
    },
    {
     "name": "stdout",
     "output_type": "stream",
     "text": [
      "R2 for all X cols: 0.969898757147\n"
     ]
    },
    {
     "data": {
      "text/html": [
       "<div>\n",
       "<table border=\"1\" class=\"dataframe\">\n",
       "  <thead>\n",
       "    <tr style=\"text-align: right;\">\n",
       "      <th></th>\n",
       "      <th>C6H6(GT)</th>\n",
       "      <th>Intercept</th>\n",
       "      <th>NO2(GT)</th>\n",
       "      <th>NOx(GT)</th>\n",
       "      <th>PT08.S1(CO)</th>\n",
       "      <th>PT08.S2(NMHC)</th>\n",
       "    </tr>\n",
       "  </thead>\n",
       "  <tbody>\n",
       "    <tr>\n",
       "      <th>0</th>\n",
       "      <td>0.163175</td>\n",
       "      <td>0.500713</td>\n",
       "      <td>0.004138</td>\n",
       "      <td>0.005148</td>\n",
       "      <td>0.000516</td>\n",
       "      <td>-0.001741</td>\n",
       "    </tr>\n",
       "  </tbody>\n",
       "</table>\n",
       "</div>"
      ],
      "text/plain": [
       "   C6H6(GT)  Intercept   NO2(GT)   NOx(GT)  PT08.S1(CO)  PT08.S2(NMHC)\n",
       "0  0.163175   0.500713  0.004138  0.005148     0.000516      -0.001741"
      ]
     },
     "metadata": {},
     "output_type": "display_data"
    }
   ],
   "source": [
    "airQualityMultiCols = list(set(airQualityXColNames) - set(['T', 'RH',' PT08.S4(NOx)',\n",
    "                                                           'PT08.S4(NO2)', 'NMHC(GT)',\n",
    "                                                          'PT08.S3(NOx)', 'PT08.S5(O3)']))\n",
    "display(airQualityDf[airQualityMultiCols].head())\n",
    "\n",
    "multiAirQualityXVals = airQualityDf[airQualityMultiCols].as_matrix()\n",
    "\n",
    "multiAirQualityBeta, multiAirQualityR2 = computeLinRegBeta(\n",
    "    multiAirQualityXVals, COValues)\n",
    "computedAirQualityR2 = computeR2(multiAirQualityXVals,\n",
    "                                COValues, multiAirQualityBeta)\n",
    "betaAttributeMap = {attr: beta for attr, beta in zip(['Intercept'] + airQualityMultiCols, multiAirQualityBeta)}\n",
    "\n",
    "# print('Betas for all X Cols:', multiAirQualityBeta)\n",
    "print('R2 for all X cols:', multiAirQualityR2)\n",
    "display(pd.DataFrame(betaAttributeMap, index=np.arange(1)))"
   ]
  },
  {
   "cell_type": "markdown",
   "metadata": {},
   "source": [
    "# Multivariate Linear Regression with Categorical Attributes\n",
    "## HR Employee Dataset\n",
    "### Source: Kaggle https://www.kaggle.com/ludobenistant/hr-analytics"
   ]
  },
  {
   "cell_type": "code",
   "execution_count": 948,
   "metadata": {
    "collapsed": false,
    "scrolled": false
   },
   "outputs": [
    {
     "data": {
      "text/html": [
       "<div>\n",
       "<table border=\"1\" class=\"dataframe\">\n",
       "  <thead>\n",
       "    <tr style=\"text-align: right;\">\n",
       "      <th></th>\n",
       "      <th>satisfaction_level</th>\n",
       "      <th>last_evaluation</th>\n",
       "      <th>number_project</th>\n",
       "      <th>average_montly_hours</th>\n",
       "      <th>time_spend_company</th>\n",
       "      <th>Work_accident</th>\n",
       "      <th>left</th>\n",
       "      <th>promotion_last_5years</th>\n",
       "      <th>sales</th>\n",
       "      <th>salary</th>\n",
       "    </tr>\n",
       "  </thead>\n",
       "  <tbody>\n",
       "    <tr>\n",
       "      <th>0</th>\n",
       "      <td>38.0</td>\n",
       "      <td>53.0</td>\n",
       "      <td>2</td>\n",
       "      <td>157</td>\n",
       "      <td>3</td>\n",
       "      <td>0</td>\n",
       "      <td>1</td>\n",
       "      <td>0</td>\n",
       "      <td>sales</td>\n",
       "      <td>low</td>\n",
       "    </tr>\n",
       "    <tr>\n",
       "      <th>1</th>\n",
       "      <td>80.0</td>\n",
       "      <td>86.0</td>\n",
       "      <td>5</td>\n",
       "      <td>262</td>\n",
       "      <td>6</td>\n",
       "      <td>0</td>\n",
       "      <td>1</td>\n",
       "      <td>0</td>\n",
       "      <td>sales</td>\n",
       "      <td>medium</td>\n",
       "    </tr>\n",
       "    <tr>\n",
       "      <th>2</th>\n",
       "      <td>11.0</td>\n",
       "      <td>88.0</td>\n",
       "      <td>7</td>\n",
       "      <td>272</td>\n",
       "      <td>4</td>\n",
       "      <td>0</td>\n",
       "      <td>1</td>\n",
       "      <td>0</td>\n",
       "      <td>sales</td>\n",
       "      <td>medium</td>\n",
       "    </tr>\n",
       "    <tr>\n",
       "      <th>3</th>\n",
       "      <td>72.0</td>\n",
       "      <td>87.0</td>\n",
       "      <td>5</td>\n",
       "      <td>223</td>\n",
       "      <td>5</td>\n",
       "      <td>0</td>\n",
       "      <td>1</td>\n",
       "      <td>0</td>\n",
       "      <td>sales</td>\n",
       "      <td>low</td>\n",
       "    </tr>\n",
       "    <tr>\n",
       "      <th>4</th>\n",
       "      <td>37.0</td>\n",
       "      <td>52.0</td>\n",
       "      <td>2</td>\n",
       "      <td>159</td>\n",
       "      <td>3</td>\n",
       "      <td>0</td>\n",
       "      <td>1</td>\n",
       "      <td>0</td>\n",
       "      <td>sales</td>\n",
       "      <td>low</td>\n",
       "    </tr>\n",
       "  </tbody>\n",
       "</table>\n",
       "</div>"
      ],
      "text/plain": [
       "   satisfaction_level  last_evaluation  number_project  average_montly_hours  \\\n",
       "0                38.0             53.0               2                   157   \n",
       "1                80.0             86.0               5                   262   \n",
       "2                11.0             88.0               7                   272   \n",
       "3                72.0             87.0               5                   223   \n",
       "4                37.0             52.0               2                   159   \n",
       "\n",
       "   time_spend_company  Work_accident  left  promotion_last_5years  sales  \\\n",
       "0                   3              0     1                      0  sales   \n",
       "1                   6              0     1                      0  sales   \n",
       "2                   4              0     1                      0  sales   \n",
       "3                   5              0     1                      0  sales   \n",
       "4                   3              0     1                      0  sales   \n",
       "\n",
       "   salary  \n",
       "0     low  \n",
       "1  medium  \n",
       "2  medium  \n",
       "3     low  \n",
       "4     low  "
      ]
     },
     "metadata": {},
     "output_type": "display_data"
    },
    {
     "name": "stdout",
     "output_type": "stream",
     "text": [
      "['number_project', 'last_evaluation', 'time_spend_company', 'promotion_last_5years', 'satisfaction_level', 'sales_sales', 'sales_accounting', 'sales_hr', 'sales_technical', 'sales_support', 'sales_management', 'sales_IT', 'sales_product_mng', 'sales_marketing', 'sales_RandD', 'salary_low', 'salary_medium', 'salary_high']\n",
      "Beta: [  5.15984009e+02  -4.65169826e+00   9.22118751e-02   7.23443971e-01\n",
      "  -1.57187201e+01   9.34591003e-01  -2.13441467e+02  -1.09616531e+02\n",
      "  -3.56766098e+02  -3.16244736e+02  -2.31082825e+02  -3.64820404e+02\n",
      "  -3.76059799e+02  -2.07574020e+02  -3.30350769e+02  -2.37953781e+02\n",
      "  -1.06404541e+02  -4.21852417e+01   3.20409160e+01]\n",
      "R^2: 0.122033257399\n"
     ]
    },
    {
     "data": {
      "text/html": [
       "<div>\n",
       "<table border=\"1\" class=\"dataframe\">\n",
       "  <thead>\n",
       "    <tr style=\"text-align: right;\">\n",
       "      <th></th>\n",
       "      <th>Intercept</th>\n",
       "      <th>last_evaluation</th>\n",
       "      <th>number_project</th>\n",
       "      <th>promotion_last_5years</th>\n",
       "      <th>salary_high</th>\n",
       "      <th>salary_low</th>\n",
       "      <th>salary_medium</th>\n",
       "      <th>sales_IT</th>\n",
       "      <th>sales_RandD</th>\n",
       "      <th>sales_accounting</th>\n",
       "      <th>sales_hr</th>\n",
       "      <th>sales_management</th>\n",
       "      <th>sales_marketing</th>\n",
       "      <th>sales_product_mng</th>\n",
       "      <th>sales_sales</th>\n",
       "      <th>sales_support</th>\n",
       "      <th>sales_technical</th>\n",
       "      <th>satisfaction_level</th>\n",
       "      <th>time_spend_company</th>\n",
       "    </tr>\n",
       "  </thead>\n",
       "  <tbody>\n",
       "    <tr>\n",
       "      <th>0</th>\n",
       "      <td>515.984009</td>\n",
       "      <td>0.092212</td>\n",
       "      <td>-4.651698</td>\n",
       "      <td>-15.71872</td>\n",
       "      <td>32.040916</td>\n",
       "      <td>-106.404541</td>\n",
       "      <td>-42.185242</td>\n",
       "      <td>-376.059799</td>\n",
       "      <td>-237.953781</td>\n",
       "      <td>-109.616531</td>\n",
       "      <td>-356.766098</td>\n",
       "      <td>-364.820404</td>\n",
       "      <td>-330.350769</td>\n",
       "      <td>-207.57402</td>\n",
       "      <td>-213.441467</td>\n",
       "      <td>-231.082825</td>\n",
       "      <td>-316.244736</td>\n",
       "      <td>0.934591</td>\n",
       "      <td>0.723444</td>\n",
       "    </tr>\n",
       "  </tbody>\n",
       "</table>\n",
       "</div>"
      ],
      "text/plain": [
       "    Intercept  last_evaluation  number_project  promotion_last_5years  \\\n",
       "0  515.984009         0.092212       -4.651698              -15.71872   \n",
       "\n",
       "   salary_high  salary_low  salary_medium    sales_IT  sales_RandD  \\\n",
       "0    32.040916 -106.404541     -42.185242 -376.059799  -237.953781   \n",
       "\n",
       "   sales_accounting    sales_hr  sales_management  sales_marketing  \\\n",
       "0       -109.616531 -356.766098       -364.820404      -330.350769   \n",
       "\n",
       "   sales_product_mng  sales_sales  sales_support  sales_technical  \\\n",
       "0         -207.57402  -213.441467    -231.082825      -316.244736   \n",
       "\n",
       "   satisfaction_level  time_spend_company  \n",
       "0            0.934591            0.723444  "
      ]
     },
     "metadata": {},
     "output_type": "display_data"
    }
   ],
   "source": [
    "hrDf = pd.read_csv('data/HR_comma_sep.csv', sep=',')\n",
    "# hrDf.loc[hrDf['last_evaluation'], 'last_evaluation'] = \n",
    "hrDf['last_evaluation'] *= 100\n",
    "hrDf['satisfaction_level'] *= 100\n",
    "display(hrDf.head())\n",
    "\n",
    "\n",
    "# convertedHrDf = _convertOrdinalVariable(hrDf, 'salary', ['low', 'medium', 'high'])\n",
    "convertedHrDf = convertNominalVariables(hrDf, ['sales', 'salary'])\n",
    "# print(convertedHrDf['sales'].unique())\n",
    "\n",
    "hrYColName = 'satisfaction_level'\n",
    "hrCategoricalCols = ['sales', 'salary']\n",
    "hrXColNames = ['number_project', 'last_evaluation', 'time_spend_company',\n",
    "              'promotion_last_5years', 'satisfaction_level']\n",
    "for col in hrCategoricalCols:\n",
    "    hrXColNames.extend(categoricalColumnNames(col, convertedHrDf[col].unique()))\n",
    "print(hrXColNames)\n",
    "\n",
    "# display(convertedHrDf[hrXColNames].head())\n",
    "hrXMatrix = convertedHrDf[hrXColNames].as_matrix()\n",
    "hrYMatrix = convertedHrDf[hrYColName].as_matrix()\n",
    "# print(hrXMatrix.shape)\n",
    "# print(hrYMatrix.reshape(-1, 1).shape)\n",
    "\n",
    "beta = np.linalg.lstsq(hrXMatrix, hrYMatrix)[0] \n",
    "# print(computeR2(hrXMatrix, hrYMatrix, beta))\n",
    "\n",
    "hrBeta, hrR2 = computeLinRegBeta(\n",
    "    hrXMatrix, hrYMatrix)\n",
    "print('Beta:', hrBeta)\n",
    "print('R^2:', hrR2)\n",
    "displayBetaTable(hrXColNames, hrBeta)\n",
    "\n",
    "# plotSingleVarRegressions([convertedHrDf[col] for col in hrXColNames], convertedHrDf[hrYColName])"
   ]
  },
  {
   "cell_type": "markdown",
   "metadata": {},
   "source": [
    "# Multivariate Linear Regression with Categorical Attributes\n",
    "### Source: UCI ML Repository https://archive.ics.uci.edu/ml/datasets/Automobile"
   ]
  },
  {
   "cell_type": "markdown",
   "metadata": {},
   "source": [
    "## Data Cleaning"
   ]
  },
  {
   "cell_type": "code",
   "execution_count": 949,
   "metadata": {
    "collapsed": false
   },
   "outputs": [
    {
     "data": {
      "text/html": [
       "<div>\n",
       "<table border=\"1\" class=\"dataframe\">\n",
       "  <thead>\n",
       "    <tr style=\"text-align: right;\">\n",
       "      <th></th>\n",
       "      <th>CityMPG</th>\n",
       "      <th>HighwayMPG</th>\n",
       "      <th>Make</th>\n",
       "      <th>FuelType</th>\n",
       "      <th>DriveWheels</th>\n",
       "      <th>Price</th>\n",
       "    </tr>\n",
       "  </thead>\n",
       "  <tbody>\n",
       "    <tr>\n",
       "      <th>0</th>\n",
       "      <td>21</td>\n",
       "      <td>27</td>\n",
       "      <td>alfa-romero</td>\n",
       "      <td>gas</td>\n",
       "      <td>rwd</td>\n",
       "      <td>13495</td>\n",
       "    </tr>\n",
       "    <tr>\n",
       "      <th>1</th>\n",
       "      <td>21</td>\n",
       "      <td>27</td>\n",
       "      <td>alfa-romero</td>\n",
       "      <td>gas</td>\n",
       "      <td>rwd</td>\n",
       "      <td>16500</td>\n",
       "    </tr>\n",
       "    <tr>\n",
       "      <th>2</th>\n",
       "      <td>19</td>\n",
       "      <td>26</td>\n",
       "      <td>alfa-romero</td>\n",
       "      <td>gas</td>\n",
       "      <td>rwd</td>\n",
       "      <td>16500</td>\n",
       "    </tr>\n",
       "    <tr>\n",
       "      <th>3</th>\n",
       "      <td>24</td>\n",
       "      <td>30</td>\n",
       "      <td>audi</td>\n",
       "      <td>gas</td>\n",
       "      <td>fwd</td>\n",
       "      <td>13950</td>\n",
       "    </tr>\n",
       "    <tr>\n",
       "      <th>4</th>\n",
       "      <td>18</td>\n",
       "      <td>22</td>\n",
       "      <td>audi</td>\n",
       "      <td>gas</td>\n",
       "      <td>4wd</td>\n",
       "      <td>17450</td>\n",
       "    </tr>\n",
       "  </tbody>\n",
       "</table>\n",
       "</div>"
      ],
      "text/plain": [
       "   CityMPG  HighwayMPG         Make FuelType DriveWheels  Price\n",
       "0       21          27  alfa-romero      gas         rwd  13495\n",
       "1       21          27  alfa-romero      gas         rwd  16500\n",
       "2       19          26  alfa-romero      gas         rwd  16500\n",
       "3       24          30         audi      gas         fwd  13950\n",
       "4       18          22         audi      gas         4wd  17450"
      ]
     },
     "metadata": {},
     "output_type": "display_data"
    }
   ],
   "source": [
    "carDf = pd.read_csv('data/imports-85.csv', sep=',')\n",
    "carYColName = 'Price'\n",
    "categoricalCarCols = ['Make', 'FuelType', 'DriveWheels']\n",
    "carXColNames = ['CityMPG', 'HighwayMPG'] + categoricalCarCols\n",
    "\n",
    "\n",
    "carDf.drop(carDf[carDf['Horsepower'] == '?'].index, inplace=True)\n",
    "carDf.drop(carDf[carDf['Price'] == '?'].index, inplace=True)\n",
    "carDf['Horsepower'] = pd.to_numeric(carDf['Horsepower'])\n",
    "carDf['Price'] = pd.to_numeric(carDf['Price'])\n",
    "\n",
    "carColNamesByType = getDfNamesByType(carDf)\n",
    "makeXCols = categoricalColumnNames('Make', carDf['Make'].unique())\n",
    "numberCylindersXCols = categoricalColumnNames('NumberCylinders',\n",
    "                                              carDf['NumberCylinders'].unique())\n",
    "# carXColNames = ['CityMPG', 'HighwayMPG'] + makeXCols\n",
    "# carXColNames = ['Price'] + makeXCols\n",
    "display(carDf[carXColNames + [carYColName]].head())\n",
    "\n",
    "nominalCarDf = convertNominalVariables(carDf, ['Make', 'FuelType', 'DriveWheels'])\n",
    "convertedCarDf = _convertOrdinalVariable(nominalCarDf, 'NumberCylinders',\n",
    "                                         ['two', 'three', 'four', 'five', 'six', 'eight', 'twelve'])\n",
    "convertedCarXColNames = ['CityMPG', 'HighwayMPG']\n",
    "for col in categoricalCarCols:\n",
    "    convertedCarXColNames.extend(categoricalColumnNames(col, convertedCarDf[col].unique()))\n",
    "\n",
    "for col in makeXCols + numberCylindersXCols:\n",
    "    convertedCarDf[col] = convertedCarDf[col].astype('int')"
   ]
  },
  {
   "cell_type": "markdown",
   "metadata": {},
   "source": [
    "## Predicting Price from Make, Number of Cylinders, City MPG, and Highway MPG"
   ]
  },
  {
   "cell_type": "code",
   "execution_count": 950,
   "metadata": {
    "collapsed": false,
    "scrolled": true
   },
   "outputs": [
    {
     "name": "stdout",
     "output_type": "stream",
     "text": [
      "Car price prediction\n",
      "Beta: [ -3.84878182e+19   6.81275291e+04  -5.00900769e+04  -3.71765409e+19\n",
      "  -3.71765409e+19  -3.71765409e+19  -3.71765409e+19  -3.71765409e+19\n",
      "  -3.71765409e+19  -3.71765409e+19  -3.71765409e+19  -3.71765409e+19\n",
      "  -3.71765409e+19  -3.71765409e+19  -3.71765409e+19  -3.71765409e+19\n",
      "  -3.71765409e+19  -3.71765409e+19  -3.71765409e+19  -3.71765409e+19\n",
      "  -3.71765409e+19  -3.71765409e+19  -3.71765409e+19  -3.71765409e+19\n",
      "   7.56643591e+19   7.56643591e+19  -3.55513344e+05  -4.31575031e+05\n",
      "  -3.65030477e+05]\n"
     ]
    },
    {
     "data": {
      "text/html": [
       "<div>\n",
       "<table border=\"1\" class=\"dataframe\">\n",
       "  <thead>\n",
       "    <tr style=\"text-align: right;\">\n",
       "      <th></th>\n",
       "      <th>CityMPG</th>\n",
       "      <th>DriveWheels</th>\n",
       "      <th>FuelType</th>\n",
       "      <th>HighwayMPG</th>\n",
       "      <th>Intercept</th>\n",
       "      <th>Make</th>\n",
       "    </tr>\n",
       "  </thead>\n",
       "  <tbody>\n",
       "    <tr>\n",
       "      <th>0</th>\n",
       "      <td>68127.529122</td>\n",
       "      <td>-3.717654e+19</td>\n",
       "      <td>-3.717654e+19</td>\n",
       "      <td>-50090.076948</td>\n",
       "      <td>-3.848782e+19</td>\n",
       "      <td>-3.717654e+19</td>\n",
       "    </tr>\n",
       "  </tbody>\n",
       "</table>\n",
       "</div>"
      ],
      "text/plain": [
       "        CityMPG   DriveWheels      FuelType    HighwayMPG     Intercept  \\\n",
       "0  68127.529122 -3.717654e+19 -3.717654e+19 -50090.076948 -3.848782e+19   \n",
       "\n",
       "           Make  \n",
       "0 -3.717654e+19  "
      ]
     },
     "metadata": {},
     "output_type": "display_data"
    },
    {
     "name": "stdout",
     "output_type": "stream",
     "text": [
      "R^2: 0.946295628773\n"
     ]
    }
   ],
   "source": [
    "carXColsDf = convertedCarDf[convertedCarXColNames]\n",
    "carXColMatrix = carXColsDf.as_matrix()\n",
    "carYColMatrix = convertedCarDf[carYColName].as_matrix()\n",
    "\n",
    "carBeta, carCorrelation = computeLinRegBeta(carXColMatrix, carYColMatrix)\n",
    "\n",
    "print('Car price prediction')\n",
    "print('Beta:', carBeta)\n",
    "displayBetaTable(carXColNames, carBeta)\n",
    "print('R^2:', carCorrelation)"
   ]
  },
  {
   "cell_type": "markdown",
   "metadata": {},
   "source": [
    "# Predicting Malignancy of Breast Cancer Cases\n",
    "## First: Convert Malignancy Class into 0 = Benign and 1 = Malignant"
   ]
  },
  {
   "cell_type": "code",
   "execution_count": 951,
   "metadata": {
    "collapsed": false,
    "scrolled": false
   },
   "outputs": [
    {
     "name": "stdout",
     "output_type": "stream",
     "text": [
      "% malignant 0.3447782546494993\n",
      "Total # cancer samples: 699, training samples: 571, test samples: 128\n"
     ]
    }
   ],
   "source": [
    "breastCancerDf = pd.read_csv('data/breast-cancer-wisconsin.csv')\n",
    "breastCancerDf.loc[breastCancerDf['Class'] == 2, 'Class'] = 0\n",
    "breastCancerDf.loc[breastCancerDf['Class'] == 4, 'Class'] = 1\n",
    "\n",
    "print('% malignant', len(breastCancerDf['Class'].loc[breastCancerDf['Class'] == 1]) / len(breastCancerDf['Class']))\n",
    "\n",
    "# Split into test and training sets\n",
    "np.random.seed(524)\n",
    "trainProportion = 0.8\n",
    "trainMask = np.random.rand(len(breastCancerDf)) < trainProportion\n",
    "cancerTrainingDf = breastCancerDf[trainMask]\n",
    "cancerTestDf = breastCancerDf[~trainMask].reset_index()\n",
    "print('Total # cancer samples: {}, training samples: {}, test samples: {}'.format(\n",
    "    len(breastCancerDf), len(cancerTrainingDf), len(cancerTestDf)))\n",
    "\n",
    "possiblePredictors = [col for col in breastCancerDf.columns\n",
    "                     if col != 'Class' and col != 'ID']\n",
    "classVals = breastCancerDf['Class']\n",
    "\n",
    "cancerColsByType = getDfNamesByType(breastCancerDf)\n",
    "breastCancerXCols = [breastCancerDf[predictor] for predictor in cancerColsByType['int64']\n",
    "                    if predictor != 'ID' and predictor != 'Class']\n",
    "\n",
    "# plotSingleVarRegressions(breastCancerXCols, classVals)"
   ]
  },
  {
   "cell_type": "code",
   "execution_count": 952,
   "metadata": {
    "collapsed": false
   },
   "outputs": [
    {
     "name": "stdout",
     "output_type": "stream",
     "text": [
      "Cancer malignancy R^2: 0.834898008399\n",
      "Cancer malignancy model scores: (0.6640625, nan, 0.0, nan)\n"
     ]
    }
   ],
   "source": [
    "predictor = ['CellShapeUniformity', 'CellSizeUniformity']\n",
    "trainingMatrix = cancerTrainingDf[predictor].as_matrix()\n",
    "testMatrix = cancerTestDf[predictor].as_matrix()\n",
    "# print('Training matrix:', trainingMatrix)\n",
    "malignancyPredictor, cancerR2 = getLogisticRegFunc(trainingMatrix,\n",
    "                                         cancerTrainingDf['Class'].as_matrix())\n",
    "print('Cancer malignancy R^2:', cancerR2)\n",
    "malignancyPredictions = [malignancyPredictor([sample])\n",
    "                                                for sample in testMatrix]\n",
    "maligPredictDf = pd.DataFrame({'Class': [predictedClass for estimate, predictedClass\n",
    "                                               in malignancyPredictions],\n",
    "                              'Estimate': [estimate for estimate, predictedClass\n",
    "                                          in malignancyPredictions]})\n",
    "# print(maligPredictDf['Class'])\n",
    "# print(malignancyPredictions)\n",
    "# TODO: Plot actual returned regression estimate\n",
    "# print(cancerTestDf['Class'].name)\n",
    "# maligPredictDf['Estimate'].plot()\n",
    "print('Cancer malignancy model scores:',\n",
    "      scoreLogClassification(cancerTestDf['Class'], maligPredictDf['Class']))"
   ]
  },
  {
   "cell_type": "code",
   "execution_count": null,
   "metadata": {
    "collapsed": true
   },
   "outputs": [],
   "source": []
  }
 ],
 "metadata": {
  "anaconda-cloud": {},
  "kernelspec": {
   "display_name": "Python 3",
   "language": "python",
   "name": "python3"
  },
  "language_info": {
   "codemirror_mode": {
    "name": "ipython",
    "version": 3
   },
   "file_extension": ".py",
   "mimetype": "text/x-python",
   "name": "python",
   "nbconvert_exporter": "python",
   "pygments_lexer": "ipython3",
   "version": "3.5.2"
  }
 },
 "nbformat": 4,
 "nbformat_minor": 0
}
