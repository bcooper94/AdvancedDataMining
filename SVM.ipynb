{
 "cells": [
  {
   "cell_type": "code",
   "execution_count": 1,
   "metadata": {
    "collapsed": true
   },
   "outputs": [],
   "source": [
    "import time\n",
    "import datetime\n",
    "from sys import maxsize\n",
    "import pandas as pd\n",
    "import numpy as np\n",
    "import matplotlib.pyplot as plt\n",
    "from mpl_toolkits.mplot3d import Axes3D\n",
    "from scipy import stats\n",
    "from sklearn.linear_model import Lasso\n",
    "from sklearn import preprocessing, svm\n",
    "from sklearn.preprocessing import OneHotEncoder\n",
    "from sklearn.model_selection import train_test_split, cross_val_score\n",
    "from sklearn.metrics import precision_recall_fscore_support\n",
    "from IPython.display import display, HTML"
   ]
  },
  {
   "cell_type": "markdown",
   "metadata": {},
   "source": [
    "# Stochastic Gradient Optimization"
   ]
  },
  {
   "cell_type": "code",
   "execution_count": 2,
   "metadata": {
    "collapsed": true,
    "scrolled": true
   },
   "outputs": [],
   "source": [
    "\"\"\"\n",
    "Sign of learningRate determines whether to use gradient ascent/descent:\n",
    "Negative learningRates = descent, positive = ascent\n",
    "\"\"\"\n",
    "def SGO(x, y, seed, gradientFunc, learningRate, error, maxIter):\n",
    "    x = np.array(x)\n",
    "    y = np.array(y)\n",
    "\n",
    "    # Reshape 1-D arrays to column format\n",
    "    # if len(x.shape) == 1:\n",
    "    #     x = x.reshape(-1, 1)\n",
    "\n",
    "    N = len(x)\n",
    "    currentError = maxsize\n",
    "    lastError = 0\n",
    "    beta = np.array(seed)\n",
    "#     print('SGO weight shape:', beta.shape)\n",
    "    i = 0\n",
    "\n",
    "    while i < maxIter:\n",
    "        for i, vals in enumerate(zip(x, y)):\n",
    "            xVal, yVal = vals\n",
    "            gradient = gradientFunc(beta, xVal, yVal)\n",
    "#         yPredicted = x.dot(beta)\n",
    "#         sqErrGradient = np.array(np.dot(x.T, (yPredicted - y)) / N)\n",
    "            beta += learningRate * gradient\n",
    "#         currentError = np.sum(np.square(y - yPredicted)) / N\n",
    "            currentError = np.sum(gradient)\n",
    "#         print(currentError)\n",
    "\n",
    "        if abs(lastError - currentError) < error:\n",
    "            break\n",
    "        lastError = currentError\n",
    "        i += 1\n",
    "\n",
    "    return beta"
   ]
  },
  {
   "cell_type": "markdown",
   "metadata": {},
   "source": [
    "# SVM"
   ]
  },
  {
   "cell_type": "code",
   "execution_count": 12,
   "metadata": {
    "collapsed": false
   },
   "outputs": [],
   "source": [
    "class MySVM:\n",
    "    def __init__(self, C, learningRate=1e-3, error=1e-2, maxIter=1000,\n",
    "                 kernel='linear', method='primal'):\n",
    "        if kernel == 'linear':\n",
    "            self._kernelFunc =  self._linearKernel\n",
    "            \n",
    "        self.method = method\n",
    "        self.learningRate = learningRate\n",
    "        self.error = error\n",
    "        self.maxIter = maxIter\n",
    "        self.C = C\n",
    "        self.supportVectorIndices = []\n",
    "    \n",
    "    def fit(self, x, y):\n",
    "        xCopy = self._removeIntercept(x)\n",
    "        \n",
    "        if self.method == 'primal':\n",
    "            seed = np.zeros(xCopy.shape[1])\n",
    "            self._grad = np.ndarray(shape=seed.shape, dtype=float)\n",
    "            self.weights = SGO(xCopy, y, seed, self._svmPrimalGradient,\n",
    "                               -self.learningRate, self.error, self.maxIter)\n",
    "            \n",
    "        else:\n",
    "            seed = np.zeros(len(x))\n",
    "            self._grad = np.ndarray(shape=seed.shape, dtype=float)\n",
    "            self._kernelLookup = self._kernelFunc(xCopy)\n",
    "            self.alphas = SGO(xCopy, y, seed, self._svmDualGradient,\n",
    "                    self.learningRate, self.error, self.maxIter)\n",
    "            self.weights = np.sum(self.alphas * xCopy.T * y, axis=1)\n",
    "            \n",
    "    def predictionFunction(self, x):\n",
    "        x = self._removeIntercept(x)\n",
    "        return np.array([self.weights.dot(xVal) for xVal in x])\n",
    "    \n",
    "    def predict(self, x):\n",
    "        x = self._removeIntercept(x)\n",
    "        return np.sign([self.weights.dot(xVal) for xVal in x])\n",
    "    \n",
    "    # Return (accuracy, precision, recall, F1) tuple\n",
    "    def score(self, x, yGold):\n",
    "        TPs = np.ndarray(shape=(2,))\n",
    "        TNs = np.ndarray(shape=(2,))\n",
    "        FPs = np.ndarray(shape=(2,))\n",
    "        FNs = np.ndarray(shape=(2,))\n",
    "        predictions = self.predict(x)\n",
    "        correct = np.sum([1 for prediction, yVal in zip(predictions, yGold)\n",
    "                       if prediction == yVal])\n",
    "        \n",
    "        for index, classVal in enumerate([-1, 1]):\n",
    "            TP = TN = FP = FN = 0\n",
    "            for i, truth in enumerate(yGold):\n",
    "                prediction = predictions[i]\n",
    "                if prediction == truth == classVal:\n",
    "                    TP += 1\n",
    "                elif prediction == truth and truth != classVal:\n",
    "                    TN += 1\n",
    "                elif prediction != truth and truth == classVal:\n",
    "                    FN += 1\n",
    "                else:\n",
    "                    FP += 1\n",
    "            TPs[index] = TP\n",
    "            TNs[index] = TN\n",
    "            FPs[index] = FP\n",
    "            FNs[index] = FN\n",
    "        \n",
    "        print('TPs:', TPs)\n",
    "        print('FPs:', FPs)\n",
    "        print('TNs:', TNs)\n",
    "        print('FNs:', FNs)\n",
    "        accuracy = np.sum(TPs / len(yGold)) / len(TPs)\n",
    "        precision = np.sum(TPs / (TPs + FPs)) / len(TPs)\n",
    "        recall = np.sum(TPs / (TPs + FNs)) / len(TPs)\n",
    "        if precision + recall > 0:\n",
    "            f1 = 2 * precision * recall / (precision + recall)\n",
    "        else:\n",
    "            f1 = 0\n",
    "                 \n",
    "        return accuracy, precision, recall, f1\n",
    "    \n",
    "    def _svmPrimalGradient(self, weights, x, y):\n",
    "        if y * np.dot(x, weights) < 1:\n",
    "            return weights - self.C * y * x - self.C * y\n",
    "        else:\n",
    "            return 0\n",
    "#         self.supportVectorIndices = [i for i in range(len(x))\n",
    "#                                     if y[i] * np.dot(x[i], weights) < 1]\n",
    "#         signedSupportVecs = np.array([y[i] * x[i] for i in self.supportVectorIndices])\n",
    "#         return weights - self.C * np.sum(signedSupportVecs, axis=0) \\\n",
    "#             - self.C * np.sum(y[i]  for i in self.supportVectorIndices)\n",
    "    \n",
    "    def _svmDualGradient(self, alphas, j, x, y):\n",
    "        for i in range(len(alphas)):\n",
    "            self._grad[i] = 1.0 - y[i] * np.sum([alphas[j] * y * self._kernelLookup[i][j]\n",
    "                                        for j in range(len(alphas))])\n",
    "            \n",
    "        return self._grad\n",
    "    \n",
    "    def _removeIntercept(self, x):\n",
    "        xCopy = np.array(x)\n",
    "        \n",
    "        if len(xCopy.shape) == 1:\n",
    "            xCopy = xCopy.reshape(-1, 1)\n",
    "        xCopy = np.insert(xCopy, 0, np.ones(x.shape[0]), axis=1)\n",
    "        \n",
    "        return xCopy\n",
    "    \n",
    "    def _linearKernel(self, x):\n",
    "        if type(x) != np.ndarray:\n",
    "            x = np.array(x)\n",
    "        \n",
    "        return np.array([[xTrain[i].T.dot(xTrain[j]) for i in range(len(xTrain))]\n",
    "                         for j in range(len(xTrain))])"
   ]
  },
  {
   "cell_type": "markdown",
   "metadata": {},
   "source": [
    "# Predicting Malignancy of Breast Cancer Cases\n",
    "## Source: [UCI ML Repository](https://archive.ics.uci.edu/ml/datasets/Breast+Cancer+Wisconsin+%28Diagnostic%29)"
   ]
  },
  {
   "cell_type": "code",
   "execution_count": 160,
   "metadata": {
    "collapsed": false,
    "scrolled": true
   },
   "outputs": [
    {
     "data": {
      "text/html": [
       "<div>\n",
       "<table border=\"1\" class=\"dataframe\">\n",
       "  <thead>\n",
       "    <tr style=\"text-align: right;\">\n",
       "      <th></th>\n",
       "      <th>ClumpThickness</th>\n",
       "      <th>CellSizeUniformity</th>\n",
       "      <th>CellShapeUniformity</th>\n",
       "      <th>MarginalAdhesion</th>\n",
       "      <th>SingleEpithelialCellSize</th>\n",
       "      <th>BlandChromatin</th>\n",
       "      <th>NormalNucleoli</th>\n",
       "      <th>Mitoses</th>\n",
       "      <th>Class</th>\n",
       "    </tr>\n",
       "  </thead>\n",
       "  <tbody>\n",
       "    <tr>\n",
       "      <th>0</th>\n",
       "      <td>5</td>\n",
       "      <td>1</td>\n",
       "      <td>1</td>\n",
       "      <td>1</td>\n",
       "      <td>2</td>\n",
       "      <td>3</td>\n",
       "      <td>1</td>\n",
       "      <td>1</td>\n",
       "      <td>1</td>\n",
       "    </tr>\n",
       "    <tr>\n",
       "      <th>1</th>\n",
       "      <td>5</td>\n",
       "      <td>4</td>\n",
       "      <td>4</td>\n",
       "      <td>5</td>\n",
       "      <td>7</td>\n",
       "      <td>3</td>\n",
       "      <td>2</td>\n",
       "      <td>1</td>\n",
       "      <td>1</td>\n",
       "    </tr>\n",
       "    <tr>\n",
       "      <th>2</th>\n",
       "      <td>3</td>\n",
       "      <td>1</td>\n",
       "      <td>1</td>\n",
       "      <td>1</td>\n",
       "      <td>2</td>\n",
       "      <td>3</td>\n",
       "      <td>1</td>\n",
       "      <td>1</td>\n",
       "      <td>1</td>\n",
       "    </tr>\n",
       "    <tr>\n",
       "      <th>3</th>\n",
       "      <td>6</td>\n",
       "      <td>8</td>\n",
       "      <td>8</td>\n",
       "      <td>1</td>\n",
       "      <td>3</td>\n",
       "      <td>3</td>\n",
       "      <td>7</td>\n",
       "      <td>1</td>\n",
       "      <td>1</td>\n",
       "    </tr>\n",
       "    <tr>\n",
       "      <th>4</th>\n",
       "      <td>4</td>\n",
       "      <td>1</td>\n",
       "      <td>1</td>\n",
       "      <td>3</td>\n",
       "      <td>2</td>\n",
       "      <td>3</td>\n",
       "      <td>1</td>\n",
       "      <td>1</td>\n",
       "      <td>1</td>\n",
       "    </tr>\n",
       "  </tbody>\n",
       "</table>\n",
       "</div>"
      ],
      "text/plain": [
       "   ClumpThickness  CellSizeUniformity  CellShapeUniformity  MarginalAdhesion  \\\n",
       "0               5                   1                    1                 1   \n",
       "1               5                   4                    4                 5   \n",
       "2               3                   1                    1                 1   \n",
       "3               6                   8                    8                 1   \n",
       "4               4                   1                    1                 3   \n",
       "\n",
       "   SingleEpithelialCellSize  BlandChromatin  NormalNucleoli  Mitoses  Class  \n",
       "0                         2               3               1        1      1  \n",
       "1                         7               3               2        1      1  \n",
       "2                         2               3               1        1      1  \n",
       "3                         3               3               7        1      1  \n",
       "4                         2               3               1        1      1  "
      ]
     },
     "metadata": {},
     "output_type": "display_data"
    },
    {
     "name": "stdout",
     "output_type": "stream",
     "text": [
      "% malignant 0.6500732064421669\n"
     ]
    }
   ],
   "source": [
    "breastCancerDf = pd.read_csv('data/breast-cancer-wisconsin.csv')\n",
    "breastCancerDf.loc[breastCancerDf['Class'] == 2, 'Class'] = 1\n",
    "breastCancerDf.loc[breastCancerDf['Class'] == 4, 'Class'] = -1\n",
    "# breastCancerDf.drop('BareNuclei', axis=1)\n",
    "breastCancerDf.drop(breastCancerDf[breastCancerDf['BareNuclei'] == '?'].index, inplace=True)\n",
    "\n",
    "yColumn = 'Class'\n",
    "xColumns = [col for col in breastCancerDf.columns\n",
    "            if col != 'ID' and col != yColumn\n",
    "           and col != 'BareNuclei']\n",
    "display(breastCancerDf[xColumns + [yColumn]].head())\n",
    "\n",
    "print('% malignant', len(breastCancerDf['Class'].loc[breastCancerDf['Class'] == 1]) / len(breastCancerDf['Class']))\n",
    "\n",
    "# Split into test and training sets\n",
    "xTrain, xTest, yTrain, yTest = train_test_split(breastCancerDf[xColumns].as_matrix(),\n",
    "                                               breastCancerDf[yColumn].as_matrix(),\n",
    "                                               test_size=1/3, random_state=int(time.time()))\n",
    "# np.random.seed(524)\n",
    "# trainProportion = 0.8\n",
    "# trainMask = np.random.rand(len(breastCancerDf)) < trainProportion\n",
    "# cancerTrainingDf = breastCancerDf[trainMask]\n",
    "# cancerTestDf = breastCancerDf[~trainMask].reset_index()\n",
    "# print('Total # cancer samples: {}, training samples: {}, test samples: {}'.format(\n",
    "#     len(breastCancerDf), len(cancerTrainingDf), len(cancerTestDf)))"
   ]
  },
  {
   "cell_type": "code",
   "execution_count": 161,
   "metadata": {
    "collapsed": false,
    "scrolled": true
   },
   "outputs": [
    {
     "name": "stdout",
     "output_type": "stream",
     "text": [
      "Weights: [  8.21442543e-04  -3.41805931e-04  -1.58297767e-03  -1.44205122e-03\n",
      "  -1.03124230e-03  -3.08797696e-04  -5.42621683e-04  -1.27718294e-03\n",
      "  -3.00284860e-06]\n",
      "Support vectors len=0: []\n",
      "xTest: [[ 3  1  4 ...,  1  1  1]\n",
      " [ 8  4  7 ...,  3  9  2]\n",
      " [ 5  1  1 ...,  2  1  1]\n",
      " ..., \n",
      " [ 5  7 10 ..., 10 10  1]\n",
      " [ 2  1  1 ...,  3  1  1]\n",
      " [ 3  1  1 ...,  2  3  1]]\n",
      "TPs: [ 80.   0.]\n",
      "FPs: [ 148.    0.]\n",
      "TNs: [  0.  80.]\n",
      "FNs: [   0.  148.]\n",
      "Accuracy: 0.1754, precision: nan, recall: 0.5000, F1: 0.0000\n"
     ]
    },
    {
     "name": "stderr",
     "output_type": "stream",
     "text": [
      "/opt/conda/lib/python3.5/site-packages/ipykernel_launcher.py:67: RuntimeWarning: invalid value encountered in true_divide\n"
     ]
    }
   ],
   "source": [
    "classifier = MySVM(C=1, learningRate=3e-6, error=1e-3, method='primal', maxIter=100)\n",
    "classifier.fit(xTrain, yTrain)\n",
    "print('Weights:', classifier.weights)\n",
    "supportVecs = classifier.supportVectorIndices\n",
    "print('Support vectors len={}: {}'.format(len(supportVecs), supportVecs))\n",
    "print('xTest:', xTest)\n",
    "accuracy, precision, recall, f1 = classifier.score(xTest, yTest)\n",
    "print('Accuracy: {:.4f}, precision: {:.4f}, recall: {:.4f}, F1: {:.4f}'.format(\n",
    "        accuracy, precision, recall, f1))"
   ]
  },
  {
   "cell_type": "markdown",
   "metadata": {},
   "source": [
    "## Sklearn Linear SVC for Comparison"
   ]
  },
  {
   "cell_type": "code",
   "execution_count": 162,
   "metadata": {
    "collapsed": false,
    "scrolled": true
   },
   "outputs": [
    {
     "name": "stdout",
     "output_type": "stream",
     "text": [
      "Coefficients: [[-0.20686005 -0.04027541 -0.29789191 -0.07542104 -0.16251891 -0.26562916\n",
      "  -0.06835683 -0.12872413]], beta: [ 4.38440096]\n",
      "Support vectors len=48: [ 10  28  33  46  49  61  87  99 133 139 172 213 217 321 334 352 368 385\n",
      " 386 389 391 410 419 446   2  78  94 101 111 114 120 121 132 146 164 177\n",
      " 193 204 211 216 253 274 278 315 318 367 384 390]\n",
      "Sklearn SVM Accuracy: 0.964898621249\n",
      "Precision=0.9797297297297297, recall=0.9797297297297297, F1=0.9797297297297298\n"
     ]
    }
   ],
   "source": [
    "testSVM = svm.SVC(kernel='linear')\n",
    "testSVM.fit(xTrain, yTrain)\n",
    "print('Coefficients: {}, beta: {}'.format(testSVM.coef_, testSVM.intercept_))\n",
    "print('Support vectors len={}: {}'.format(len(testSVM.support_), testSVM.support_))\n",
    "scores = cross_val_score(testSVM, breastCancerDf[xColumns].as_matrix(),\n",
    "                        breastCancerDf[yColumn].as_matrix(),\n",
    "                        cv=5)\n",
    "predicted = testSVM.predict(xTest)\n",
    "precision, recall, f1, support = precision_recall_fscore_support(yTest, predicted,\n",
    "                                                                average='binary')\n",
    "print('Sklearn SVM Accuracy:', scores.mean())\n",
    "print('Precision={}, recall={}, F1={}'.format(precision, recall, f1))"
   ]
  },
  {
   "cell_type": "markdown",
   "metadata": {},
   "source": [
    "# HR Employee Dataset - Predicting whether or not employees will leave\n",
    "### Source: Kaggle https://www.kaggle.com/ludobenistant/hr-analytics"
   ]
  },
  {
   "cell_type": "code",
   "execution_count": 163,
   "metadata": {
    "collapsed": false,
    "scrolled": false
   },
   "outputs": [
    {
     "name": "stdout",
     "output_type": "stream",
     "text": [
      "Columns: Index(['satisfaction_level', 'last_evaluation', 'number_project',\n",
      "       'average_montly_hours', 'time_spend_company', 'Work_accident', 'left',\n",
      "       'promotion_last_5years', 'sales', 'salary'],\n",
      "      dtype='object')\n"
     ]
    },
    {
     "data": {
      "text/html": [
       "<div>\n",
       "<table border=\"1\" class=\"dataframe\">\n",
       "  <thead>\n",
       "    <tr style=\"text-align: right;\">\n",
       "      <th></th>\n",
       "      <th>satisfaction_level</th>\n",
       "      <th>last_evaluation</th>\n",
       "      <th>number_project</th>\n",
       "      <th>average_montly_hours</th>\n",
       "      <th>time_spend_company</th>\n",
       "      <th>Work_accident</th>\n",
       "      <th>left</th>\n",
       "      <th>promotion_last_5years</th>\n",
       "      <th>enc_IT</th>\n",
       "      <th>enc_RandD</th>\n",
       "      <th>...</th>\n",
       "      <th>enc_hr</th>\n",
       "      <th>enc_management</th>\n",
       "      <th>enc_marketing</th>\n",
       "      <th>enc_product_mng</th>\n",
       "      <th>enc_sales</th>\n",
       "      <th>enc_support</th>\n",
       "      <th>enc_technical</th>\n",
       "      <th>enc_high</th>\n",
       "      <th>enc_low</th>\n",
       "      <th>enc_medium</th>\n",
       "    </tr>\n",
       "  </thead>\n",
       "  <tbody>\n",
       "    <tr>\n",
       "      <th>4179</th>\n",
       "      <td>95.0</td>\n",
       "      <td>58.0</td>\n",
       "      <td>3</td>\n",
       "      <td>163</td>\n",
       "      <td>3</td>\n",
       "      <td>0</td>\n",
       "      <td>-1</td>\n",
       "      <td>0</td>\n",
       "      <td>0</td>\n",
       "      <td>0</td>\n",
       "      <td>...</td>\n",
       "      <td>0</td>\n",
       "      <td>0</td>\n",
       "      <td>0</td>\n",
       "      <td>0</td>\n",
       "      <td>0</td>\n",
       "      <td>0</td>\n",
       "      <td>1</td>\n",
       "      <td>0</td>\n",
       "      <td>0</td>\n",
       "      <td>1</td>\n",
       "    </tr>\n",
       "    <tr>\n",
       "      <th>14167</th>\n",
       "      <td>85.0</td>\n",
       "      <td>87.0</td>\n",
       "      <td>4</td>\n",
       "      <td>152</td>\n",
       "      <td>7</td>\n",
       "      <td>0</td>\n",
       "      <td>-1</td>\n",
       "      <td>0</td>\n",
       "      <td>0</td>\n",
       "      <td>0</td>\n",
       "      <td>...</td>\n",
       "      <td>0</td>\n",
       "      <td>0</td>\n",
       "      <td>0</td>\n",
       "      <td>0</td>\n",
       "      <td>1</td>\n",
       "      <td>0</td>\n",
       "      <td>0</td>\n",
       "      <td>0</td>\n",
       "      <td>1</td>\n",
       "      <td>0</td>\n",
       "    </tr>\n",
       "    <tr>\n",
       "      <th>13003</th>\n",
       "      <td>61.0</td>\n",
       "      <td>42.0</td>\n",
       "      <td>3</td>\n",
       "      <td>104</td>\n",
       "      <td>2</td>\n",
       "      <td>0</td>\n",
       "      <td>-1</td>\n",
       "      <td>0</td>\n",
       "      <td>0</td>\n",
       "      <td>0</td>\n",
       "      <td>...</td>\n",
       "      <td>1</td>\n",
       "      <td>0</td>\n",
       "      <td>0</td>\n",
       "      <td>0</td>\n",
       "      <td>0</td>\n",
       "      <td>0</td>\n",
       "      <td>0</td>\n",
       "      <td>0</td>\n",
       "      <td>0</td>\n",
       "      <td>1</td>\n",
       "    </tr>\n",
       "    <tr>\n",
       "      <th>11765</th>\n",
       "      <td>92.0</td>\n",
       "      <td>64.0</td>\n",
       "      <td>4</td>\n",
       "      <td>190</td>\n",
       "      <td>10</td>\n",
       "      <td>1</td>\n",
       "      <td>-1</td>\n",
       "      <td>0</td>\n",
       "      <td>0</td>\n",
       "      <td>0</td>\n",
       "      <td>...</td>\n",
       "      <td>0</td>\n",
       "      <td>1</td>\n",
       "      <td>0</td>\n",
       "      <td>0</td>\n",
       "      <td>0</td>\n",
       "      <td>0</td>\n",
       "      <td>0</td>\n",
       "      <td>0</td>\n",
       "      <td>1</td>\n",
       "      <td>0</td>\n",
       "    </tr>\n",
       "    <tr>\n",
       "      <th>11836</th>\n",
       "      <td>17.0</td>\n",
       "      <td>55.0</td>\n",
       "      <td>4</td>\n",
       "      <td>194</td>\n",
       "      <td>3</td>\n",
       "      <td>0</td>\n",
       "      <td>-1</td>\n",
       "      <td>0</td>\n",
       "      <td>0</td>\n",
       "      <td>0</td>\n",
       "      <td>...</td>\n",
       "      <td>0</td>\n",
       "      <td>0</td>\n",
       "      <td>0</td>\n",
       "      <td>1</td>\n",
       "      <td>0</td>\n",
       "      <td>0</td>\n",
       "      <td>0</td>\n",
       "      <td>0</td>\n",
       "      <td>1</td>\n",
       "      <td>0</td>\n",
       "    </tr>\n",
       "  </tbody>\n",
       "</table>\n",
       "<p>5 rows × 21 columns</p>\n",
       "</div>"
      ],
      "text/plain": [
       "       satisfaction_level  last_evaluation  number_project  \\\n",
       "4179                 95.0             58.0               3   \n",
       "14167                85.0             87.0               4   \n",
       "13003                61.0             42.0               3   \n",
       "11765                92.0             64.0               4   \n",
       "11836                17.0             55.0               4   \n",
       "\n",
       "       average_montly_hours  time_spend_company  Work_accident  left  \\\n",
       "4179                    163                   3              0    -1   \n",
       "14167                   152                   7              0    -1   \n",
       "13003                   104                   2              0    -1   \n",
       "11765                   190                  10              1    -1   \n",
       "11836                   194                   3              0    -1   \n",
       "\n",
       "       promotion_last_5years  enc_IT  enc_RandD     ...      enc_hr  \\\n",
       "4179                       0       0          0     ...           0   \n",
       "14167                      0       0          0     ...           0   \n",
       "13003                      0       0          0     ...           1   \n",
       "11765                      0       0          0     ...           0   \n",
       "11836                      0       0          0     ...           0   \n",
       "\n",
       "       enc_management  enc_marketing  enc_product_mng  enc_sales  enc_support  \\\n",
       "4179                0              0                0          0            0   \n",
       "14167               0              0                0          1            0   \n",
       "13003               0              0                0          0            0   \n",
       "11765               1              0                0          0            0   \n",
       "11836               0              0                1          0            0   \n",
       "\n",
       "       enc_technical  enc_high  enc_low  enc_medium  \n",
       "4179               1         0        0           1  \n",
       "14167              0         0        1           0  \n",
       "13003              0         0        0           1  \n",
       "11765              0         0        1           0  \n",
       "11836              0         0        1           0  \n",
       "\n",
       "[5 rows x 21 columns]"
      ]
     },
     "metadata": {},
     "output_type": "display_data"
    }
   ],
   "source": [
    "hrDf = pd.read_csv('data/HR_comma_sep.csv', sep=',').sample(frac=0.1)\n",
    "# hrDf.loc[hrDf['last_evaluation'], 'last_evaluation'] = \n",
    "hrDf['last_evaluation'] *= 100\n",
    "hrDf['satisfaction_level'] *= 100\n",
    "hrDf.loc[hrDf['left'] == 1, 'left'] = 1\n",
    "hrDf.loc[hrDf['left'] == 0, 'left'] = -1\n",
    "# display(hrDf.head())\n",
    "# encoder = OneHotEncoder()\n",
    "# print(hrDf['sales'])\n",
    "# encoder.fit(hrDf['sales'])\n",
    "# hrDf['encodedSales'] = encoder.transform(hrDf['sales'])\n",
    "# display(hrDf.head())\n",
    "categoricalColumns = ['sales', 'salary']\n",
    "print('Columns:', hrDf.columns)\n",
    "hrDf = pd.get_dummies(hrDf, 'enc', columns=categoricalColumns)\n",
    "display(hrDf.head())\n",
    "\n",
    "msk = np.random.rand(len(hrDf)) < 0.8\n",
    "x, y = hrDf.drop('left', axis=1), hrDf['left']\n",
    "xTrain, xTest = x[msk].as_matrix(), x[~msk].as_matrix()\n",
    "yTrain, yTest = y[msk].as_matrix(), y[~msk].as_matrix()"
   ]
  },
  {
   "cell_type": "markdown",
   "metadata": {},
   "source": [
    "## Sklearn SVC"
   ]
  },
  {
   "cell_type": "code",
   "execution_count": 164,
   "metadata": {
    "collapsed": false
   },
   "outputs": [
    {
     "name": "stdout",
     "output_type": "stream",
     "text": [
      "Sklearn accuracy: 0.76430976431\n",
      "Precision=0.7241, recall=0.2530, f1=0.3750\n"
     ]
    }
   ],
   "source": [
    "kernel = 'linear'\n",
    "testSVM = svm.SVC(kernel=kernel)\n",
    "testSVM.fit(xTrain, yTrain)\n",
    "predicted = testSVM.predict(xTest)\n",
    "precision, recall, f1, support = precision_recall_fscore_support(yTest, predicted,\n",
    "                                                                average='binary')\n",
    "print('Sklearn accuracy:', testSVM.score(xTest, yTest))\n",
    "print('Precision={:.4f}, recall={:.4f}, f1={:.4f}'.format(precision, recall, f1))"
   ]
  },
  {
   "cell_type": "markdown",
   "metadata": {},
   "source": [
    "## My SVM"
   ]
  },
  {
   "cell_type": "code",
   "execution_count": 166,
   "metadata": {
    "collapsed": false
   },
   "outputs": [
    {
     "name": "stdout",
     "output_type": "stream",
     "text": [
      "TPs: [ 214.    0.]\n",
      "FPs: [ 83.   0.]\n",
      "TNs: [   0.  214.]\n",
      "FNs: [  0.  83.]\n",
      "Accuracy: 0.3603, precision: nan, recall: 0.5000, F1: 0.0000\n"
     ]
    },
    {
     "name": "stderr",
     "output_type": "stream",
     "text": [
      "/opt/conda/lib/python3.5/site-packages/ipykernel_launcher.py:67: RuntimeWarning: invalid value encountered in true_divide\n"
     ]
    }
   ],
   "source": [
    "learnRate = 1e-4\n",
    "classifier = MySVM(C=1, learningRate=learnRate, method='primal', maxIter=100)\n",
    "classifier.fit(xTrain, yTrain)\n",
    "accuracy, precision, recall, f1 = classifier.score(xTest, yTest)\n",
    "print('Accuracy: {:.4f}, precision: {:.4f}, recall: {:.4f}, F1: {:.4f}'.format(\n",
    "        accuracy, precision, recall, f1))"
   ]
  },
  {
   "cell_type": "markdown",
   "metadata": {
    "collapsed": true
   },
   "source": [
    "# Predicting Doctor Visit No Shows\n",
    "## Source: Kaggle: https://www.kaggle.com/joniarroba/noshowappointments"
   ]
  },
  {
   "cell_type": "code",
   "execution_count": 4,
   "metadata": {
    "collapsed": false,
    "scrolled": true
   },
   "outputs": [
    {
     "name": "stdout",
     "output_type": "stream",
     "text": [
      "Number of no show samples: 300\n"
     ]
    },
    {
     "data": {
      "text/html": [
       "<div>\n",
       "<table border=\"1\" class=\"dataframe\">\n",
       "  <thead>\n",
       "    <tr style=\"text-align: right;\">\n",
       "      <th></th>\n",
       "      <th>Age</th>\n",
       "      <th>Gender</th>\n",
       "      <th>AppointmentRegistration</th>\n",
       "      <th>AppointmentDate</th>\n",
       "      <th>DayOfTheWeek</th>\n",
       "      <th>Status</th>\n",
       "      <th>Diabetes</th>\n",
       "      <th>Alcoholism</th>\n",
       "      <th>HiperTension</th>\n",
       "      <th>Handcap</th>\n",
       "      <th>Smokes</th>\n",
       "      <th>Scholarship</th>\n",
       "      <th>Tuberculosis</th>\n",
       "      <th>Sms_Reminder</th>\n",
       "      <th>AwaitingTime</th>\n",
       "      <th>AptRegistrationDifference</th>\n",
       "    </tr>\n",
       "  </thead>\n",
       "  <tbody>\n",
       "    <tr>\n",
       "      <th>4754</th>\n",
       "      <td>65</td>\n",
       "      <td>F</td>\n",
       "      <td>1.434708e+09</td>\n",
       "      <td>1.436486e+09</td>\n",
       "      <td>Friday</td>\n",
       "      <td>1</td>\n",
       "      <td>0</td>\n",
       "      <td>0</td>\n",
       "      <td>1</td>\n",
       "      <td>0</td>\n",
       "      <td>0</td>\n",
       "      <td>0</td>\n",
       "      <td>0</td>\n",
       "      <td>1</td>\n",
       "      <td>-21</td>\n",
       "      <td>1778276.0</td>\n",
       "    </tr>\n",
       "    <tr>\n",
       "      <th>269841</th>\n",
       "      <td>19</td>\n",
       "      <td>F</td>\n",
       "      <td>1.404322e+09</td>\n",
       "      <td>1.408320e+09</td>\n",
       "      <td>Monday</td>\n",
       "      <td>-1</td>\n",
       "      <td>0</td>\n",
       "      <td>0</td>\n",
       "      <td>0</td>\n",
       "      <td>0</td>\n",
       "      <td>0</td>\n",
       "      <td>0</td>\n",
       "      <td>0</td>\n",
       "      <td>1</td>\n",
       "      <td>-47</td>\n",
       "      <td>3998249.0</td>\n",
       "    </tr>\n",
       "    <tr>\n",
       "      <th>39874</th>\n",
       "      <td>19</td>\n",
       "      <td>F</td>\n",
       "      <td>1.389178e+09</td>\n",
       "      <td>1.389917e+09</td>\n",
       "      <td>Friday</td>\n",
       "      <td>1</td>\n",
       "      <td>0</td>\n",
       "      <td>0</td>\n",
       "      <td>0</td>\n",
       "      <td>0</td>\n",
       "      <td>0</td>\n",
       "      <td>1</td>\n",
       "      <td>0</td>\n",
       "      <td>0</td>\n",
       "      <td>-9</td>\n",
       "      <td>739246.0</td>\n",
       "    </tr>\n",
       "    <tr>\n",
       "      <th>281741</th>\n",
       "      <td>56</td>\n",
       "      <td>F</td>\n",
       "      <td>1.421393e+09</td>\n",
       "      <td>1.421712e+09</td>\n",
       "      <td>Tuesday</td>\n",
       "      <td>1</td>\n",
       "      <td>0</td>\n",
       "      <td>0</td>\n",
       "      <td>1</td>\n",
       "      <td>0</td>\n",
       "      <td>1</td>\n",
       "      <td>1</td>\n",
       "      <td>0</td>\n",
       "      <td>1</td>\n",
       "      <td>-4</td>\n",
       "      <td>319018.0</td>\n",
       "    </tr>\n",
       "    <tr>\n",
       "      <th>266373</th>\n",
       "      <td>10</td>\n",
       "      <td>M</td>\n",
       "      <td>1.407513e+09</td>\n",
       "      <td>1.407888e+09</td>\n",
       "      <td>Wednesday</td>\n",
       "      <td>1</td>\n",
       "      <td>0</td>\n",
       "      <td>0</td>\n",
       "      <td>0</td>\n",
       "      <td>0</td>\n",
       "      <td>0</td>\n",
       "      <td>0</td>\n",
       "      <td>0</td>\n",
       "      <td>1</td>\n",
       "      <td>-5</td>\n",
       "      <td>375434.0</td>\n",
       "    </tr>\n",
       "  </tbody>\n",
       "</table>\n",
       "</div>"
      ],
      "text/plain": [
       "        Age Gender  AppointmentRegistration  AppointmentDate DayOfTheWeek  \\\n",
       "4754     65      F             1.434708e+09     1.436486e+09       Friday   \n",
       "269841   19      F             1.404322e+09     1.408320e+09       Monday   \n",
       "39874    19      F             1.389178e+09     1.389917e+09       Friday   \n",
       "281741   56      F             1.421393e+09     1.421712e+09      Tuesday   \n",
       "266373   10      M             1.407513e+09     1.407888e+09    Wednesday   \n",
       "\n",
       "        Status  Diabetes  Alcoholism  HiperTension  Handcap  Smokes  \\\n",
       "4754         1         0           0             1        0       0   \n",
       "269841      -1         0           0             0        0       0   \n",
       "39874        1         0           0             0        0       0   \n",
       "281741       1         0           0             1        0       1   \n",
       "266373       1         0           0             0        0       0   \n",
       "\n",
       "        Scholarship  Tuberculosis  Sms_Reminder  AwaitingTime  \\\n",
       "4754              0             0             1           -21   \n",
       "269841            0             0             1           -47   \n",
       "39874             1             0             0            -9   \n",
       "281741            1             0             1            -4   \n",
       "266373            0             0             1            -5   \n",
       "\n",
       "        AptRegistrationDifference  \n",
       "4754                    1778276.0  \n",
       "269841                  3998249.0  \n",
       "39874                    739246.0  \n",
       "281741                   319018.0  \n",
       "266373                   375434.0  "
      ]
     },
     "metadata": {},
     "output_type": "display_data"
    },
    {
     "name": "stdout",
     "output_type": "stream",
     "text": [
      "[ 1 -1]\n",
      "Index(['Age', 'Gender', 'AppointmentRegistration', 'AppointmentDate',\n",
      "       'DayOfTheWeek', 'Status', 'Diabetes', 'Alcoholism', 'HiperTension',\n",
      "       'Handcap', 'Smokes', 'Scholarship', 'Tuberculosis', 'Sms_Reminder',\n",
      "       'AwaitingTime', 'AptRegistrationDifference'],\n",
      "      dtype='object')\n"
     ]
    }
   ],
   "source": [
    "def convertTime(timeStr):\n",
    "    return time.mktime(datetime.datetime.strptime(timeStr, '%Y-%m-%dT%H:%M:%SZ').timetuple())\n",
    "\n",
    "noShows = pd.read_csv('data/No-show-Issue-Comma-300k.csv',\n",
    "                     converters={'AppointmentRegistration': convertTime,\n",
    "                                'ApointmentData': convertTime}).sample(n=300)\n",
    "print('Number of no show samples:', len(noShows))\n",
    "noShows.rename(columns={'ApointmentData': 'AppointmentDate', 'Alcoolism': 'Alcoholism'}, inplace=True)\n",
    "noShows.loc[noShows['Status'] == 'Show-Up', 'Status'] = 1\n",
    "noShows.loc[noShows['Status'] == 'No-Show', 'Status'] = -1\n",
    "noShows['Status'] = noShows['Status'].astype(int)\n",
    "noShows['AptRegistrationDifference'] = noShows.AppointmentDate - noShows.AppointmentRegistration\n",
    "display(noShows.head())\n",
    "print(noShows.Status.unique())\n",
    "print(noShows.columns)\n",
    "\n",
    "mask = np.random.rand(len(noShows)) < 0.8\n",
    "xCols = ['Age', 'AptRegistrationDifference']\n",
    "\n",
    "train, test = noShows[mask], noShows[~mask]\n",
    "xTrain, xTest = train[xCols].values, test[xCols].values\n",
    "yTrain, yTest = train['Status'].values, test['Status'].values"
   ]
  },
  {
   "cell_type": "markdown",
   "metadata": {},
   "source": [
    "## Sklearn SVM"
   ]
  },
  {
   "cell_type": "code",
   "execution_count": 5,
   "metadata": {
    "collapsed": false
   },
   "outputs": [
    {
     "name": "stdout",
     "output_type": "stream",
     "text": [
      "xTrain: 230\n",
      "Sklearn accuracy: 0.671428571429\n",
      "Precision=0.6714, recall=1.0000, f1=0.8034\n"
     ]
    }
   ],
   "source": [
    "kernel = 'linear'\n",
    "print('xTrain:', len(xTrain))\n",
    "testSVM = svm.SVC(kernel=kernel)\n",
    "testSVM.fit(xTrain, yTrain)\n",
    "predicted = testSVM.predict(xTest)\n",
    "precision, recall, f1, support = precision_recall_fscore_support(yTest, predicted,\n",
    "                                                                average='binary')\n",
    "print('Sklearn accuracy:', testSVM.score(xTest, yTest))\n",
    "print('Precision={:.4f}, recall={:.4f}, f1={:.4f}'.format(precision, recall, f1))"
   ]
  },
  {
   "cell_type": "markdown",
   "metadata": {},
   "source": [
    "## My SVM"
   ]
  },
  {
   "cell_type": "code",
   "execution_count": 6,
   "metadata": {
    "collapsed": false
   },
   "outputs": [
    {
     "name": "stdout",
     "output_type": "stream",
     "text": [
      "TPs: [  0.  47.]\n",
      "FPs: [  0.  23.]\n",
      "TNs: [ 47.   0.]\n",
      "FNs: [ 23.   0.]\n",
      "Accuracy: 0.3357, precision: nan, recall: 0.5000, F1: 0.0000\n"
     ]
    },
    {
     "name": "stderr",
     "output_type": "stream",
     "text": [
      "/opt/conda/lib/python3.5/site-packages/ipykernel_launcher.py:67: RuntimeWarning: invalid value encountered in true_divide\n"
     ]
    }
   ],
   "source": [
    "learnRate = 1e-14\n",
    "classifier = MySVM(C=1, learningRate=learnRate, method='primal', maxIter=100)\n",
    "classifier.fit(xTrain, yTrain)\n",
    "accuracy, precision, recall, f1 = classifier.score(xTest, yTest)\n",
    "print('Accuracy: {:.4f}, precision: {:.4f}, recall: {:.4f}, F1: {:.4f}'.format(\n",
    "        accuracy, precision, recall, f1))"
   ]
  },
  {
   "cell_type": "markdown",
   "metadata": {},
   "source": [
    "# Visualization of Linear SVM on Synthetic Data Set"
   ]
  },
  {
   "cell_type": "code",
   "execution_count": 33,
   "metadata": {
    "collapsed": false,
    "scrolled": false
   },
   "outputs": [
    {
     "name": "stdout",
     "output_type": "stream",
     "text": [
      "Weights: [-0.12216099  0.12912332  0.12746662]\n",
      "TPs: [ 30.  37.]\n",
      "FPs: [ 0.  0.]\n",
      "TNs: [ 37.  30.]\n",
      "FNs: [ 0.  0.]\n",
      "Accuracy: 0.5000, precision: 1.0000, recall: 1.0000, F1: 1.0000\n"
     ]
    },
    {
     "data": {
      "image/png": "[encoded data removed]",
      "text/plain": [
       "<matplotlib.figure.Figure at 0x7fbfe00d0f98>"
      ]
     },
     "metadata": {},
     "output_type": "display_data"
    }
   ],
   "source": [
    "def getColor(status):\n",
    "    if status == -1:\n",
    "        return (1.0, 0.0, 0.0)\n",
    "    else:\n",
    "        return (0.0, 0.0, 1.0)\n",
    "    \n",
    "x1 = np.random.uniform(-5.0, 0., (100, 2))\n",
    "x1_labeled = np.insert(x1, 2, np.zeros(100, dtype=int) - 1, axis=1)\n",
    "x2 = np.random.uniform(8.0, 10.0, (100, 2))\n",
    "x2_labeled = np.insert(x2, 2, np.ones(100, dtype=int), axis=1)\n",
    "x = np.concatenate([x1_labeled, x2_labeled])\n",
    "xTrain, xTest, yTrain, yTest = train_test_split(x[:, :2], x[:, -1],\n",
    "                                               test_size=1/3, random_state=int(time.time()))\n",
    "\n",
    "learnRate = 1e-3\n",
    "classifier = MySVM(C=1, learningRate=learnRate, method='primal', maxIter=100)\n",
    "classifier.fit(xTrain, yTrain)\n",
    "print('Weights:', classifier.weights)\n",
    "accuracy, precision, recall, f1 = classifier.score(xTest, yTest)\n",
    "print('Accuracy: {:.4f}, precision: {:.4f}, recall: {:.4f}, F1: {:.4f}'.format(\n",
    "        accuracy, precision, recall, f1))\n",
    "\n",
    "# Plot the decision boundary. For that, we will assign a color to each\n",
    "# point in the mesh [x_min, x_max]x[y_min, y_max].\n",
    "h = .02  # step size in the mesh\n",
    "x_min, x_max = x[:, 0].min() - 1, x[:, 0].max() + 1\n",
    "y_min, y_max = x[:, 1].min() - 1, x[:, 1].max() + 1\n",
    "xx, yy = np.meshgrid(np.arange(x_min, x_max, h),\n",
    "                     np.arange(y_min, y_max, h))\n",
    "plt.subplot(2, 2, 1)\n",
    "plt.subplots_adjust(wspace=0.4, hspace=0.4)\n",
    "\n",
    "Z = classifier.predict(np.c_[xx.ravel(), yy.ravel()])\n",
    "\n",
    "# Put the result into a color plot\n",
    "Z = Z.reshape(xx.shape)\n",
    "plt.contourf(xx, yy, Z, cmap=plt.cm.coolwarm, alpha=0.8)\n",
    "\n",
    "# Plot also the training points\n",
    "plt.scatter(x[:, 0], x[:, 1], cmap=plt.cm.coolwarm)\n",
    "plt.xlabel('Sepal length')\n",
    "plt.ylabel('Sepal width')\n",
    "plt.xlim(xx.min(), xx.max())\n",
    "plt.ylim(yy.min(), yy.max())\n",
    "plt.xticks(())\n",
    "plt.yticks(())\n",
    "plt.title('Linear Kernel SVM')\n",
    "plt.show()"
   ]
  },
  {
   "cell_type": "code",
   "execution_count": null,
   "metadata": {
    "collapsed": true
   },
   "outputs": [],
   "source": []
  }
 ],
 "metadata": {
  "kernelspec": {
   "display_name": "Python 3",
   "language": "python",
   "name": "python3"
  },
  "language_info": {
   "codemirror_mode": {
    "name": "ipython",
    "version": 3
   },
   "file_extension": ".py",
   "mimetype": "text/x-python",
   "name": "python",
   "nbconvert_exporter": "python",
   "pygments_lexer": "ipython3",
   "version": "3.5.2"
  }
 },
 "nbformat": 4,
 "nbformat_minor": 2
}
