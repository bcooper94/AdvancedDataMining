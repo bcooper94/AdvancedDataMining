{
 "cells": [
  {
   "cell_type": "code",
   "execution_count": 68,
   "metadata": {
    "collapsed": true
   },
   "outputs": [],
   "source": [
    "import time\n",
    "from sys import maxsize\n",
    "import pandas as pd\n",
    "import numpy as np\n",
    "import matplotlib.pyplot as plt\n",
    "from mpl_toolkits.mplot3d import Axes3D\n",
    "from scipy import stats\n",
    "from sklearn.linear_model import Lasso\n",
    "from sklearn import preprocessing, svm\n",
    "from sklearn.model_selection import train_test_split, cross_val_score\n",
    "from sklearn.metrics import precision_recall_fscore_support\n",
    "from IPython.display import display, HTML"
   ]
  },
  {
   "cell_type": "markdown",
   "metadata": {},
   "source": [
    "# Stochastic Gradient Optimization"
   ]
  },
  {
   "cell_type": "code",
   "execution_count": 70,
   "metadata": {
    "collapsed": true,
    "scrolled": true
   },
   "outputs": [],
   "source": [
    "\"\"\"\n",
    "Sign of learningRate determines whether to use gradient ascent/descent:\n",
    "Negative learningRates = descent, positive = ascent\n",
    "\"\"\"\n",
    "def SGO(x, y, seed, gradientFunc, learningRate, error, maxIter):\n",
    "    x = np.array(x)\n",
    "    y = np.array(y)\n",
    "\n",
    "    # Reshape 1-D arrays to column format\n",
    "    # if len(x.shape) == 1:\n",
    "    #     x = x.reshape(-1, 1)\n",
    "\n",
    "    N = len(x)\n",
    "    currentError = maxsize\n",
    "    lastError = 0\n",
    "    beta = np.array(seed)\n",
    "    i = 0\n",
    "\n",
    "    while i < maxIter:\n",
    "        sqErrGradient = gradientFunc(beta, x, y)\n",
    "#         yPredicted = x.dot(beta)\n",
    "#         sqErrGradient = np.array(np.dot(x.T, (yPredicted - y)) / N)\n",
    "        beta += learningRate * sqErrGradient\n",
    "#         currentError = np.sum(np.square(y - yPredicted)) / N\n",
    "        currentError = np.sum(sqErrGradient)\n",
    "#         print(currentError)\n",
    "\n",
    "        if abs(lastError - currentError) < error:\n",
    "            break\n",
    "        lastError = currentError\n",
    "        i += 1\n",
    "\n",
    "    return beta"
   ]
  },
  {
   "cell_type": "markdown",
   "metadata": {},
   "source": [
    "# SVM"
   ]
  },
  {
   "cell_type": "code",
   "execution_count": 207,
   "metadata": {
    "collapsed": false
   },
   "outputs": [],
   "source": [
    "class MySVM:\n",
    "    def __init__(self, C, learningRate=1e-3, error=1e-2, maxIter=1000,\n",
    "                 kernel='linear', method='primal'):\n",
    "        if kernel == 'linear':\n",
    "            self.kernel =  self._linearKernel\n",
    "            \n",
    "        self.method = method\n",
    "        self.learningRate = learningRate\n",
    "        self.error = error\n",
    "        self.maxIter = maxIter\n",
    "        self.C = C\n",
    "    \n",
    "    def fit(self, x, y):\n",
    "        xCopy = self._removeIntercept(x)\n",
    "        seed = np.zeros(x.shape[1] + 1)\n",
    "        \n",
    "        if self.method == 'primal':\n",
    "            self.weights = SGO(xCopy, y, seed, self._svmPrimalGradient,\n",
    "                               -self.learningRate, self.error, self.maxIter)\n",
    "            \n",
    "        else:\n",
    "            self.weights = SGO(x, y, seed, self.method,\n",
    "                    self.learningRate, self.error, self.maxIter)\n",
    "    \n",
    "    def predict(self, x):\n",
    "        return np.sign(self.weights.T.dot(np.insert(x, len(x) - 1, 1)))\n",
    "    \n",
    "    # Return (accuracy, precision, recall, F1) tuple\n",
    "    def score(self, x, yGold):\n",
    "        TPs = []\n",
    "        TNs = []\n",
    "        FPs = []\n",
    "        FNs = []\n",
    "        predictions = [self.predict(xVal) for xVal in x]\n",
    "        correct = np.sum([1 for xVal, yVal in zip(x, yGold)\n",
    "                       if self.predict(xVal) == yVal])\n",
    "        \n",
    "        for classVal in [-1, 1]:\n",
    "            TP = TN = FP = FN = 0\n",
    "            for i, truth in enumerate(yGold):\n",
    "                prediction = predictions[i]\n",
    "                if prediction == truth == classVal:\n",
    "                    TP += 1\n",
    "                elif prediction == truth and truth != classVal:\n",
    "                    TN += 1\n",
    "                elif prediction != truth and truth == classVal:\n",
    "                    FN += 1\n",
    "                else:\n",
    "                    FP += 1\n",
    "            TPs.append(TP)\n",
    "            TNs.append(TN)\n",
    "            FPs.append(FP)\n",
    "            FNs.append(FN)\n",
    "        \n",
    "        accuracy = sum(TPs) / len(yGold)\n",
    "        precision = sum(TPs) / (2 * (sum(TPs) + sum(FPs)))\n",
    "        recall = sum(TPs) / (2 * (sum(TPs) + sum(FNs)))\n",
    "        if precision + recall > 0:\n",
    "            f1 = 2 * precision * recall / (precision + recall)\n",
    "        else:\n",
    "            f1 = 0\n",
    "                 \n",
    "        return accuracy, precision, recall, f1\n",
    "    \n",
    "    def _svmPrimalGradient(self, weights, x, y):\n",
    "        self.supportVectorIndices = [i for i in range(len(x))\n",
    "                                    if y[i] * x[i].T.dot(weights) < 1]\n",
    "        signedSupportVecs = np.array([y[i] * x[i] for i in self.supportVectorIndices])\n",
    "        return weights - self.C * np.sum(signedSupportVecs, axis=0) \\\n",
    "            - self.C * np.sum(y[i] for i in self.supportVectorIndices)\n",
    "    \n",
    "    def _svmDualGradient(self, alpha, x, y):\n",
    "        gradShape = x.shape[0]\n",
    "#         if len(x.shape) == 1:\n",
    "#             gradShape = x.shape[0]\n",
    "#         else:\n",
    "#             gradShape = x.shape[1]\n",
    "\n",
    "        grad = np.ndarray(shape=gradShape, dtype=float)\n",
    "\n",
    "        for i in range(len(grad)):\n",
    "            grad[i] = 1 - y[i] * np.sum(alpha[i] * x[i].dot(x.T))\n",
    "        return grad\n",
    "    \n",
    "    def _removeIntercept(self, x):\n",
    "        xCopy = np.array(x)\n",
    "        \n",
    "        if len(xCopy.shape) == 1:\n",
    "            xCopy = xCopy.reshape(-1, 1)\n",
    "#         print('X shape:', x.shape)\n",
    "#         print('Ones shape:', np.ones(x.shape[0]).shape)\n",
    "        xCopy = np.insert(xCopy, 0, np.ones(x.shape[0]), axis=1)\n",
    "        \n",
    "        return xCopy\n",
    "    \n",
    "    def _linearKernel():\n",
    "        pass"
   ]
  },
  {
   "cell_type": "markdown",
   "metadata": {},
   "source": [
    "# Predicting Malignancy of Breast Cancer Cases\n",
    "## Source: [UCI ML Repository](https://archive.ics.uci.edu/ml/datasets/Breast+Cancer+Wisconsin+%28Diagnostic%29)"
   ]
  },
  {
   "cell_type": "code",
   "execution_count": 208,
   "metadata": {
    "collapsed": false
   },
   "outputs": [
    {
     "data": {
      "text/html": [
       "<div>\n",
       "<table border=\"1\" class=\"dataframe\">\n",
       "  <thead>\n",
       "    <tr style=\"text-align: right;\">\n",
       "      <th></th>\n",
       "      <th>ClumpThickness</th>\n",
       "      <th>CellSizeUniformity</th>\n",
       "      <th>CellShapeUniformity</th>\n",
       "      <th>MarginalAdhesion</th>\n",
       "      <th>SingleEpithelialCellSize</th>\n",
       "      <th>BlandChromatin</th>\n",
       "      <th>NormalNucleoli</th>\n",
       "      <th>Mitoses</th>\n",
       "      <th>Class</th>\n",
       "    </tr>\n",
       "  </thead>\n",
       "  <tbody>\n",
       "    <tr>\n",
       "      <th>0</th>\n",
       "      <td>5</td>\n",
       "      <td>1</td>\n",
       "      <td>1</td>\n",
       "      <td>1</td>\n",
       "      <td>2</td>\n",
       "      <td>3</td>\n",
       "      <td>1</td>\n",
       "      <td>1</td>\n",
       "      <td>1</td>\n",
       "    </tr>\n",
       "    <tr>\n",
       "      <th>1</th>\n",
       "      <td>5</td>\n",
       "      <td>4</td>\n",
       "      <td>4</td>\n",
       "      <td>5</td>\n",
       "      <td>7</td>\n",
       "      <td>3</td>\n",
       "      <td>2</td>\n",
       "      <td>1</td>\n",
       "      <td>1</td>\n",
       "    </tr>\n",
       "    <tr>\n",
       "      <th>2</th>\n",
       "      <td>3</td>\n",
       "      <td>1</td>\n",
       "      <td>1</td>\n",
       "      <td>1</td>\n",
       "      <td>2</td>\n",
       "      <td>3</td>\n",
       "      <td>1</td>\n",
       "      <td>1</td>\n",
       "      <td>1</td>\n",
       "    </tr>\n",
       "    <tr>\n",
       "      <th>3</th>\n",
       "      <td>6</td>\n",
       "      <td>8</td>\n",
       "      <td>8</td>\n",
       "      <td>1</td>\n",
       "      <td>3</td>\n",
       "      <td>3</td>\n",
       "      <td>7</td>\n",
       "      <td>1</td>\n",
       "      <td>1</td>\n",
       "    </tr>\n",
       "    <tr>\n",
       "      <th>4</th>\n",
       "      <td>4</td>\n",
       "      <td>1</td>\n",
       "      <td>1</td>\n",
       "      <td>3</td>\n",
       "      <td>2</td>\n",
       "      <td>3</td>\n",
       "      <td>1</td>\n",
       "      <td>1</td>\n",
       "      <td>1</td>\n",
       "    </tr>\n",
       "  </tbody>\n",
       "</table>\n",
       "</div>"
      ],
      "text/plain": [
       "   ClumpThickness  CellSizeUniformity  CellShapeUniformity  MarginalAdhesion  \\\n",
       "0               5                   1                    1                 1   \n",
       "1               5                   4                    4                 5   \n",
       "2               3                   1                    1                 1   \n",
       "3               6                   8                    8                 1   \n",
       "4               4                   1                    1                 3   \n",
       "\n",
       "   SingleEpithelialCellSize  BlandChromatin  NormalNucleoli  Mitoses  Class  \n",
       "0                         2               3               1        1      1  \n",
       "1                         7               3               2        1      1  \n",
       "2                         2               3               1        1      1  \n",
       "3                         3               3               7        1      1  \n",
       "4                         2               3               1        1      1  "
      ]
     },
     "metadata": {},
     "output_type": "display_data"
    },
    {
     "name": "stdout",
     "output_type": "stream",
     "text": [
      "% malignant 0.6500732064421669\n"
     ]
    }
   ],
   "source": [
    "breastCancerDf = pd.read_csv('data/breast-cancer-wisconsin.csv')\n",
    "breastCancerDf.loc[breastCancerDf['Class'] == 2, 'Class'] = 1\n",
    "breastCancerDf.loc[breastCancerDf['Class'] == 4, 'Class'] = -1\n",
    "# breastCancerDf.drop('BareNuclei', axis=1)\n",
    "breastCancerDf.drop(breastCancerDf[breastCancerDf['BareNuclei'] == '?'].index, inplace=True)\n",
    "\n",
    "yColumn = 'Class'\n",
    "xColumns = [col for col in breastCancerDf.columns\n",
    "            if col != 'ID' and col != yColumn\n",
    "           and col != 'BareNuclei']\n",
    "display(breastCancerDf[xColumns + [yColumn]].head())\n",
    "\n",
    "print('% malignant', len(breastCancerDf['Class'].loc[breastCancerDf['Class'] == 1]) / len(breastCancerDf['Class']))\n",
    "\n",
    "# Split into test and training sets\n",
    "xTrain, xTest, yTrain, yTest = train_test_split(breastCancerDf[xColumns].as_matrix(),\n",
    "                                               breastCancerDf[yColumn].as_matrix(),\n",
    "                                               test_size=1/3, random_state=int(time.time()))\n",
    "# np.random.seed(524)\n",
    "# trainProportion = 0.8\n",
    "# trainMask = np.random.rand(len(breastCancerDf)) < trainProportion\n",
    "# cancerTrainingDf = breastCancerDf[trainMask]\n",
    "# cancerTestDf = breastCancerDf[~trainMask].reset_index()\n",
    "# print('Total # cancer samples: {}, training samples: {}, test samples: {}'.format(\n",
    "#     len(breastCancerDf), len(cancerTrainingDf), len(cancerTestDf)))"
   ]
  },
  {
   "cell_type": "code",
   "execution_count": 209,
   "metadata": {
    "collapsed": false
   },
   "outputs": [
    {
     "name": "stdout",
     "output_type": "stream",
     "text": [
      "Support vectors len=28: [2, 76, 100, 120, 130, 132, 144, 172, 186, 187, 209, 232, 238, 275, 303, 323, 335, 339, 378, 384, 388, 400, 404, 405, 415, 421, 426, 440]\n",
      "Accuracy: 0.6404, precision: 0.3202, recall: 0.3202, F1: 0.3202\n"
     ]
    }
   ],
   "source": [
    "classifier = MySVM(C=1, learningRate=1e-3, error=1e-3)\n",
    "classifier.fit(xTrain, yTrain)\n",
    "supportVecs = classifier.supportVectorIndices\n",
    "print('Support vectors len={}: {}'.format(len(supportVecs), supportVecs))\n",
    "accuracy, precision, recall, f1 = classifier.score(xTest, yTest)\n",
    "print('Accuracy: {:.4f}, precision: {:.4f}, recall: {:.4f}, F1: {:.4f}'.format(\n",
    "        accuracy, precision, recall, f1))"
   ]
  },
  {
   "cell_type": "markdown",
   "metadata": {},
   "source": [
    "## Sklearn Linear SVC for Comparison"
   ]
  },
  {
   "cell_type": "code",
   "execution_count": 131,
   "metadata": {
    "collapsed": false
   },
   "outputs": [
    {
     "name": "stdout",
     "output_type": "stream",
     "text": [
      "Coefficients: [[-0.21728532 -0.07919049 -0.19345441 -0.16351294 -0.21623691 -0.21511535\n",
      "  -0.12487737 -0.09989353]], beta: [ 4.42910256]\n",
      "Support vectors len=43: [ 38  51  58  66  67 133 134 168 180 197 210 248 270 278 290 316 347 353\n",
      " 354 370 388 441 453   5  14  49  57 117 122 181 185 220 259 288 301 327\n",
      " 349 355 359 365 371 411 425]\n",
      "Sklearn SVM Accuracy: 0.964898621249\n",
      "Precision=0.98125, recall=0.9691358024691358, F1=0.9751552795031055\n"
     ]
    }
   ],
   "source": [
    "testSVM = svm.SVC(kernel='linear')\n",
    "testSVM.fit(xTrain, yTrain)\n",
    "print('Coefficients: {}, beta: {}'.format(testSVM.coef_, testSVM.intercept_))\n",
    "print('Support vectors len={}: {}'.format(len(testSVM.support_), testSVM.support_))\n",
    "scores = cross_val_score(testSVM, breastCancerDf[xColumns].as_matrix(),\n",
    "                        breastCancerDf[yColumn].as_matrix(),\n",
    "                        cv=5)\n",
    "predicted = testSVM.predict(xTest)\n",
    "precision, recall, f1, support = precision_recall_fscore_support(yTest, predicted,\n",
    "                                                                average='binary')\n",
    "print('Sklearn SVM Accuracy:', scores.mean())\n",
    "print('Precision={}, recall={}, F1={}'.format(precision, recall, f1))"
   ]
  },
  {
   "cell_type": "code",
   "execution_count": null,
   "metadata": {
    "collapsed": true
   },
   "outputs": [],
   "source": []
  }
 ],
 "metadata": {
  "kernelspec": {
   "display_name": "Python 3",
   "language": "python",
   "name": "python3"
  },
  "language_info": {
   "codemirror_mode": {
    "name": "ipython",
    "version": 3
   },
   "file_extension": ".py",
   "mimetype": "text/x-python",
   "name": "python",
   "nbconvert_exporter": "python",
   "pygments_lexer": "ipython3",
   "version": "3.5.2"
  }
 },
 "nbformat": 4,
 "nbformat_minor": 2
}
