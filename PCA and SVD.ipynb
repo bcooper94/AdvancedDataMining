{
 "cells": [
  {
   "cell_type": "code",
   "execution_count": 1,
   "metadata": {
    "collapsed": false
   },
   "outputs": [],
   "source": [
    "import time\n",
    "import datetime\n",
    "import random\n",
    "import string\n",
    "from sys import maxsize\n",
    "import pandas as pd\n",
    "import numpy as np\n",
    "import matplotlib.pyplot as plt\n",
    "from mpl_toolkits.mplot3d import Axes3D\n",
    "from scipy import stats\n",
    "from sklearn.linear_model import Lasso\n",
    "from sklearn import preprocessing, svm\n",
    "from sklearn.preprocessing import OneHotEncoder\n",
    "from sklearn.utils import shuffle\n",
    "from sklearn.metrics import precision_recall_fscore_support\n",
    "from IPython.display import display, HTML"
   ]
  },
  {
   "cell_type": "markdown",
   "metadata": {},
   "source": [
    "# PCA"
   ]
  },
  {
   "cell_type": "code",
   "execution_count": 2,
   "metadata": {
    "collapsed": true
   },
   "outputs": [],
   "source": [
    "class PCA:\n",
    "    def __init__(self):\n",
    "        self.eigenvalues = None\n",
    "        self.eigenvectors = None\n",
    "    \n",
    "    def fit(self, x):\n",
    "        x = np.array(x)\n",
    "        mean = np.mean(x, axis=0)\n",
    "        normalized = x - np.mean(x, axis=0)\n",
    "        covariance = np.cov(x.T)\n",
    "        eigenvalues, eigenvectors = np.linalg.eig(covariance)\n",
    "        \n",
    "        eigenpairs = [(np.abs(eigenvalues[i]), eigenvectors[:, i]) for i in range(len(eigenvalues))]\n",
    "        eigenpairs.sort(key=lambda x: x[0], reverse=True)\n",
    "        \n",
    "        self.eigenvalues = np.array([eigenvalue for eigenvalue, eigenvector in eigenpairs])\n",
    "        self.eigenvectors = np.array([eigenvector for eigenvalue, eigenvector in eigenpairs])\n",
    "        self._eigenpairs = eigenpairs\n",
    "        \n",
    "    def transform(self, x, components):\n",
    "        totalComponents = len(self.eigenvalues)\n",
    "        if components > totalComponents or components < 1:\n",
    "            raise ValueError('Invalid number of components')\n",
    "        \n",
    "        W = np.hstack([self.eigenvectors[i].reshape(totalComponents, 1) for i in range(components)])\n",
    "        return np.array(W.T.dot(x.T).T)\n",
    "    \n",
    "    def fit_transform(self, x, components):\n",
    "        self.fit(x)\n",
    "        return self.transform(x, components)"
   ]
  },
  {
   "cell_type": "markdown",
   "metadata": {},
   "source": [
    "# Alphabet Letter Classification"
   ]
  },
  {
   "cell_type": "code",
   "execution_count": 5,
   "metadata": {
    "collapsed": false
   },
   "outputs": [
    {
     "data": {
      "text/html": [
       "<div>\n",
       "<table border=\"1\" class=\"dataframe\">\n",
       "  <thead>\n",
       "    <tr style=\"text-align: right;\">\n",
       "      <th></th>\n",
       "      <th>Letter</th>\n",
       "      <th>XBoxPos</th>\n",
       "      <th>YBoxPos</th>\n",
       "      <th>Width</th>\n",
       "      <th>Height</th>\n",
       "      <th>PixelCount</th>\n",
       "      <th>XBar</th>\n",
       "      <th>YBar</th>\n",
       "      <th>X2Bar</th>\n",
       "      <th>Y2Bar</th>\n",
       "      <th>XYBar</th>\n",
       "      <th>X2YBar</th>\n",
       "      <th>XY2Bar</th>\n",
       "      <th>XEdge</th>\n",
       "      <th>XEdgeVY</th>\n",
       "      <th>YEdge</th>\n",
       "      <th>YEdgeVX</th>\n",
       "    </tr>\n",
       "  </thead>\n",
       "  <tbody>\n",
       "    <tr>\n",
       "      <th>0</th>\n",
       "      <td>19</td>\n",
       "      <td>2</td>\n",
       "      <td>8</td>\n",
       "      <td>3</td>\n",
       "      <td>5</td>\n",
       "      <td>1</td>\n",
       "      <td>8</td>\n",
       "      <td>13</td>\n",
       "      <td>0</td>\n",
       "      <td>6</td>\n",
       "      <td>6</td>\n",
       "      <td>10</td>\n",
       "      <td>8</td>\n",
       "      <td>0</td>\n",
       "      <td>8</td>\n",
       "      <td>0</td>\n",
       "      <td>8</td>\n",
       "    </tr>\n",
       "    <tr>\n",
       "      <th>1</th>\n",
       "      <td>8</td>\n",
       "      <td>5</td>\n",
       "      <td>12</td>\n",
       "      <td>3</td>\n",
       "      <td>7</td>\n",
       "      <td>2</td>\n",
       "      <td>10</td>\n",
       "      <td>5</td>\n",
       "      <td>5</td>\n",
       "      <td>4</td>\n",
       "      <td>13</td>\n",
       "      <td>3</td>\n",
       "      <td>9</td>\n",
       "      <td>2</td>\n",
       "      <td>8</td>\n",
       "      <td>4</td>\n",
       "      <td>10</td>\n",
       "    </tr>\n",
       "    <tr>\n",
       "      <th>2</th>\n",
       "      <td>3</td>\n",
       "      <td>4</td>\n",
       "      <td>11</td>\n",
       "      <td>6</td>\n",
       "      <td>8</td>\n",
       "      <td>6</td>\n",
       "      <td>10</td>\n",
       "      <td>6</td>\n",
       "      <td>2</td>\n",
       "      <td>6</td>\n",
       "      <td>10</td>\n",
       "      <td>3</td>\n",
       "      <td>7</td>\n",
       "      <td>3</td>\n",
       "      <td>7</td>\n",
       "      <td>3</td>\n",
       "      <td>9</td>\n",
       "    </tr>\n",
       "    <tr>\n",
       "      <th>3</th>\n",
       "      <td>13</td>\n",
       "      <td>7</td>\n",
       "      <td>11</td>\n",
       "      <td>6</td>\n",
       "      <td>6</td>\n",
       "      <td>3</td>\n",
       "      <td>5</td>\n",
       "      <td>9</td>\n",
       "      <td>4</td>\n",
       "      <td>6</td>\n",
       "      <td>4</td>\n",
       "      <td>4</td>\n",
       "      <td>10</td>\n",
       "      <td>6</td>\n",
       "      <td>10</td>\n",
       "      <td>2</td>\n",
       "      <td>8</td>\n",
       "    </tr>\n",
       "    <tr>\n",
       "      <th>4</th>\n",
       "      <td>6</td>\n",
       "      <td>2</td>\n",
       "      <td>1</td>\n",
       "      <td>3</td>\n",
       "      <td>1</td>\n",
       "      <td>1</td>\n",
       "      <td>8</td>\n",
       "      <td>6</td>\n",
       "      <td>6</td>\n",
       "      <td>6</td>\n",
       "      <td>6</td>\n",
       "      <td>5</td>\n",
       "      <td>9</td>\n",
       "      <td>1</td>\n",
       "      <td>7</td>\n",
       "      <td>5</td>\n",
       "      <td>10</td>\n",
       "    </tr>\n",
       "  </tbody>\n",
       "</table>\n",
       "</div>"
      ],
      "text/plain": [
       "   Letter  XBoxPos  YBoxPos  Width  Height  PixelCount  XBar  YBar  X2Bar  \\\n",
       "0      19        2        8      3       5           1     8    13      0   \n",
       "1       8        5       12      3       7           2    10     5      5   \n",
       "2       3        4       11      6       8           6    10     6      2   \n",
       "3      13        7       11      6       6           3     5     9      4   \n",
       "4       6        2        1      3       1           1     8     6      6   \n",
       "\n",
       "   Y2Bar  XYBar  X2YBar  XY2Bar  XEdge  XEdgeVY  YEdge  YEdgeVX  \n",
       "0      6      6      10       8      0        8      0        8  \n",
       "1      4     13       3       9      2        8      4       10  \n",
       "2      6     10       3       7      3        7      3        9  \n",
       "3      6      4       4      10      6       10      2        8  \n",
       "4      6      6       5       9      1        7      5       10  "
      ]
     },
     "metadata": {},
     "output_type": "display_data"
    },
    {
     "name": "stdout",
     "output_type": "stream",
     "text": [
      "XBoxPos mean: 4.02355\n"
     ]
    }
   ],
   "source": [
    "letterDf = pd.read_csv('data/letter-recognition.csv')\n",
    "letterDf.Letter = letterDf.Letter.apply(lambda c: string.ascii_uppercase.find(c))\n",
    "display(letterDf.head())\n",
    "print('XBoxPos mean:', letterDf.XBoxPos.mean())\n",
    "\n",
    "yCol = 'Letter'\n",
    "xCols = [col for col in letterDf.columns if col != yCol]\n",
    "trainProp = 0.8\n",
    "numTraining = int(len(letterDf) * trainProp)\n",
    "letterDf = shuffle(letterDf)"
   ]
  },
  {
   "cell_type": "code",
   "execution_count": 4,
   "metadata": {
    "collapsed": false,
    "scrolled": false
   },
   "outputs": [],
   "source": [
    "pca = PCA()\n",
    "newX = pca.fit_transform(letterDf[xCols].values, 10)\n",
    "x = letterDf[xCols]\n",
    "y = letterDf[yCol]\n",
    "xTrain, xTest = x[:numTraining], x[numTraining:]\n",
    "pcaXTrain, pcaXTest = newX[:numTraining], newX[numTraining:]\n",
    "yTrain, yTest = y[:numTraining], y[numTraining:]"
   ]
  },
  {
   "cell_type": "markdown",
   "metadata": {},
   "source": [
    "## SVM to Classify Letters on Untransformed Data"
   ]
  },
  {
   "cell_type": "code",
   "execution_count": 11,
   "metadata": {
    "collapsed": false
   },
   "outputs": [
    {
     "name": "stdout",
     "output_type": "stream",
     "text": [
      "Accuracy: 0.9765\n",
      "Precision: 0.9766720830717864, recall: 0.9762443966573654, F1: 0.9763356050865389\n"
     ]
    }
   ],
   "source": [
    "classifier = svm.SVC()\n",
    "classifier.fit(xTrain, yTrain)\n",
    "print('Accuracy:', classifier.score(xTest, yTest))\n",
    "predicted = classifier.predict(xTest)\n",
    "precision, recall, f1, support = precision_recall_fscore_support(yTest, predicted, average='macro')\n",
    "print('Precision: {}, recall: {}, F1: {}'.format(precision, recall, f1))"
   ]
  },
  {
   "cell_type": "markdown",
   "metadata": {},
   "source": [
    "## SVM Classifying Letters on PCA Transformed Data (10 components)"
   ]
  },
  {
   "cell_type": "code",
   "execution_count": 10,
   "metadata": {
    "collapsed": false
   },
   "outputs": [
    {
     "name": "stdout",
     "output_type": "stream",
     "text": [
      "Accuracy: 0.952\n",
      "Precision: 0.9526156008131282, recall: 0.9516717707845855, F1: 0.9518743774697247\n"
     ]
    }
   ],
   "source": [
    "classifier = svm.SVC()\n",
    "classifier.fit(pcaXTrain, yTrain)\n",
    "print('Accuracy:', classifier.score(pcaXTest, yTest))\n",
    "predicted = classifier.predict(pcaXTest)\n",
    "precision, recall, f1, support = precision_recall_fscore_support(yTest, predicted, average='macro')\n",
    "print('Precision: {}, recall: {}, F1: {}'.format(precision, recall, f1))"
   ]
  },
  {
   "cell_type": "markdown",
   "metadata": {},
   "source": [
    "# Predicting Doctor Visit No Shows"
   ]
  },
  {
   "cell_type": "code",
   "execution_count": 7,
   "metadata": {
    "collapsed": false
   },
   "outputs": [
    {
     "name": "stdout",
     "output_type": "stream",
     "text": [
      "Number of no show samples: 300\n"
     ]
    },
    {
     "data": {
      "text/html": [
       "<div>\n",
       "<table border=\"1\" class=\"dataframe\">\n",
       "  <thead>\n",
       "    <tr style=\"text-align: right;\">\n",
       "      <th></th>\n",
       "      <th>Age</th>\n",
       "      <th>Gender</th>\n",
       "      <th>AppointmentRegistration</th>\n",
       "      <th>AppointmentDate</th>\n",
       "      <th>DayOfTheWeek</th>\n",
       "      <th>Status</th>\n",
       "      <th>Diabetes</th>\n",
       "      <th>Alcoholism</th>\n",
       "      <th>HiperTension</th>\n",
       "      <th>Handcap</th>\n",
       "      <th>Smokes</th>\n",
       "      <th>Scholarship</th>\n",
       "      <th>Tuberculosis</th>\n",
       "      <th>Sms_Reminder</th>\n",
       "      <th>AwaitingTime</th>\n",
       "      <th>AptRegistrationDifference</th>\n",
       "    </tr>\n",
       "  </thead>\n",
       "  <tbody>\n",
       "    <tr>\n",
       "      <th>268498</th>\n",
       "      <td>2</td>\n",
       "      <td>M</td>\n",
       "      <td>1.432197e+09</td>\n",
       "      <td>1.433203e+09</td>\n",
       "      <td>Tuesday</td>\n",
       "      <td>-1</td>\n",
       "      <td>0</td>\n",
       "      <td>0</td>\n",
       "      <td>0</td>\n",
       "      <td>0</td>\n",
       "      <td>0</td>\n",
       "      <td>0</td>\n",
       "      <td>0</td>\n",
       "      <td>0</td>\n",
       "      <td>-12</td>\n",
       "      <td>1006198.0</td>\n",
       "    </tr>\n",
       "    <tr>\n",
       "      <th>162849</th>\n",
       "      <td>5</td>\n",
       "      <td>M</td>\n",
       "      <td>1.428483e+09</td>\n",
       "      <td>1.429142e+09</td>\n",
       "      <td>Thursday</td>\n",
       "      <td>1</td>\n",
       "      <td>0</td>\n",
       "      <td>0</td>\n",
       "      <td>0</td>\n",
       "      <td>0</td>\n",
       "      <td>0</td>\n",
       "      <td>0</td>\n",
       "      <td>0</td>\n",
       "      <td>1</td>\n",
       "      <td>-8</td>\n",
       "      <td>659401.0</td>\n",
       "    </tr>\n",
       "    <tr>\n",
       "      <th>129172</th>\n",
       "      <td>62</td>\n",
       "      <td>F</td>\n",
       "      <td>1.416901e+09</td>\n",
       "      <td>1.418861e+09</td>\n",
       "      <td>Thursday</td>\n",
       "      <td>1</td>\n",
       "      <td>0</td>\n",
       "      <td>0</td>\n",
       "      <td>1</td>\n",
       "      <td>0</td>\n",
       "      <td>0</td>\n",
       "      <td>0</td>\n",
       "      <td>0</td>\n",
       "      <td>1</td>\n",
       "      <td>-23</td>\n",
       "      <td>1959617.0</td>\n",
       "    </tr>\n",
       "    <tr>\n",
       "      <th>214990</th>\n",
       "      <td>3</td>\n",
       "      <td>M</td>\n",
       "      <td>1.416309e+09</td>\n",
       "      <td>1.420502e+09</td>\n",
       "      <td>Tuesday</td>\n",
       "      <td>1</td>\n",
       "      <td>0</td>\n",
       "      <td>0</td>\n",
       "      <td>0</td>\n",
       "      <td>0</td>\n",
       "      <td>0</td>\n",
       "      <td>0</td>\n",
       "      <td>0</td>\n",
       "      <td>1</td>\n",
       "      <td>-49</td>\n",
       "      <td>4192954.0</td>\n",
       "    </tr>\n",
       "    <tr>\n",
       "      <th>114323</th>\n",
       "      <td>6</td>\n",
       "      <td>M</td>\n",
       "      <td>1.414513e+09</td>\n",
       "      <td>1.415750e+09</td>\n",
       "      <td>Wednesday</td>\n",
       "      <td>1</td>\n",
       "      <td>0</td>\n",
       "      <td>0</td>\n",
       "      <td>0</td>\n",
       "      <td>0</td>\n",
       "      <td>0</td>\n",
       "      <td>0</td>\n",
       "      <td>0</td>\n",
       "      <td>0</td>\n",
       "      <td>-15</td>\n",
       "      <td>1237622.0</td>\n",
       "    </tr>\n",
       "  </tbody>\n",
       "</table>\n",
       "</div>"
      ],
      "text/plain": [
       "        Age Gender  AppointmentRegistration  AppointmentDate DayOfTheWeek  \\\n",
       "268498    2      M             1.432197e+09     1.433203e+09      Tuesday   \n",
       "162849    5      M             1.428483e+09     1.429142e+09     Thursday   \n",
       "129172   62      F             1.416901e+09     1.418861e+09     Thursday   \n",
       "214990    3      M             1.416309e+09     1.420502e+09      Tuesday   \n",
       "114323    6      M             1.414513e+09     1.415750e+09    Wednesday   \n",
       "\n",
       "        Status  Diabetes  Alcoholism  HiperTension  Handcap  Smokes  \\\n",
       "268498      -1         0           0             0        0       0   \n",
       "162849       1         0           0             0        0       0   \n",
       "129172       1         0           0             1        0       0   \n",
       "214990       1         0           0             0        0       0   \n",
       "114323       1         0           0             0        0       0   \n",
       "\n",
       "        Scholarship  Tuberculosis  Sms_Reminder  AwaitingTime  \\\n",
       "268498            0             0             0           -12   \n",
       "162849            0             0             1            -8   \n",
       "129172            0             0             1           -23   \n",
       "214990            0             0             1           -49   \n",
       "114323            0             0             0           -15   \n",
       "\n",
       "        AptRegistrationDifference  \n",
       "268498                  1006198.0  \n",
       "162849                   659401.0  \n",
       "129172                  1959617.0  \n",
       "214990                  4192954.0  \n",
       "114323                  1237622.0  "
      ]
     },
     "metadata": {},
     "output_type": "display_data"
    },
    {
     "name": "stdout",
     "output_type": "stream",
     "text": [
      "[-1  1]\n",
      "Index(['Age', 'Gender', 'AppointmentRegistration', 'AppointmentDate',\n",
      "       'DayOfTheWeek', 'Status', 'Diabetes', 'Alcoholism', 'HiperTension',\n",
      "       'Handcap', 'Smokes', 'Scholarship', 'Tuberculosis', 'Sms_Reminder',\n",
      "       'AwaitingTime', 'AptRegistrationDifference'],\n",
      "      dtype='object')\n"
     ]
    }
   ],
   "source": [
    "def convertTime(timeStr):\n",
    "    return time.mktime(datetime.datetime.strptime(timeStr, '%Y-%m-%dT%H:%M:%SZ').timetuple())\n",
    "\n",
    "noShows = pd.read_csv('data/No-show-Issue-Comma-300k.csv',\n",
    "                     converters={'AppointmentRegistration': convertTime,\n",
    "                                'ApointmentData': convertTime}).sample(n=300)\n",
    "print('Number of no show samples:', len(noShows))\n",
    "noShows.rename(columns={'ApointmentData': 'AppointmentDate', 'Alcoolism': 'Alcoholism'}, inplace=True)\n",
    "noShows.loc[noShows['Status'] == 'Show-Up', 'Status'] = 1\n",
    "noShows.loc[noShows['Status'] == 'No-Show', 'Status'] = -1\n",
    "noShows['Status'] = noShows['Status'].astype(int)\n",
    "noShows['AptRegistrationDifference'] = noShows.AppointmentDate - noShows.AppointmentRegistration\n",
    "display(noShows.head())\n",
    "print(noShows.Status.unique())\n",
    "print(noShows.columns)\n",
    "\n",
    "xCols = ['Age', 'AptRegistrationDifference', 'Diabetes', 'Alcoholism', 'HiperTension', 'Handcap',\n",
    "         'Smokes', 'Scholarship', 'Tuberculosis', 'Sms_Reminder', 'AwaitingTime']\n",
    "yCol = 'Status'"
   ]
  },
  {
   "cell_type": "code",
   "execution_count": 8,
   "metadata": {
    "collapsed": false
   },
   "outputs": [],
   "source": [
    "numTraining = int(len(noShows) * trainProp)\n",
    "noShows = shuffle(noShows)\n",
    "pca = PCA()\n",
    "newX = pca.fit_transform(noShows[xCols].values, 3)\n",
    "x = noShows[xCols]\n",
    "y = noShows[yCol]\n",
    "xTrain, xTest = x[:numTraining], x[numTraining:]\n",
    "pcaXTrain, pcaXTest = newX[:numTraining], newX[numTraining:]\n",
    "yTrain, yTest = y[:numTraining], y[numTraining:]"
   ]
  },
  {
   "cell_type": "markdown",
   "metadata": {},
   "source": [
    "## SVM on Untransformed Data"
   ]
  },
  {
   "cell_type": "code",
   "execution_count": 9,
   "metadata": {
    "collapsed": false
   },
   "outputs": [
    {
     "name": "stdout",
     "output_type": "stream",
     "text": [
      "Accuracy: 0.633333333333\n",
      "Precision: 0.31666666666666665, recall: 0.5, F1: 0.3877551020408163\n"
     ]
    },
    {
     "name": "stderr",
     "output_type": "stream",
     "text": [
      "/opt/conda/lib/python3.5/site-packages/sklearn/metrics/classification.py:1113: UndefinedMetricWarning: Precision and F-score are ill-defined and being set to 0.0 in labels with no predicted samples.\n",
      "  'precision', 'predicted', average, warn_for)\n"
     ]
    }
   ],
   "source": [
    "classifier = svm.SVC()\n",
    "classifier.fit(xTrain, yTrain)\n",
    "print('Accuracy:', classifier.score(xTest, yTest))\n",
    "predicted = classifier.predict(xTest)\n",
    "precision, recall, f1, support = precision_recall_fscore_support(yTest, predicted, average='macro')\n",
    "print('Precision: {}, recall: {}, F1: {}'.format(precision, recall, f1))"
   ]
  },
  {
   "cell_type": "markdown",
   "metadata": {},
   "source": [
    "## SVM on PCA Transformed Data (3 components)"
   ]
  },
  {
   "cell_type": "code",
   "execution_count": 10,
   "metadata": {
    "collapsed": false
   },
   "outputs": [
    {
     "name": "stdout",
     "output_type": "stream",
     "text": [
      "Accuracy: 0.633333333333\n",
      "Precision: 0.31666666666666665, recall: 0.5, F1: 0.3877551020408163\n"
     ]
    },
    {
     "name": "stderr",
     "output_type": "stream",
     "text": [
      "/opt/conda/lib/python3.5/site-packages/sklearn/metrics/classification.py:1113: UndefinedMetricWarning: Precision and F-score are ill-defined and being set to 0.0 in labels with no predicted samples.\n",
      "  'precision', 'predicted', average, warn_for)\n"
     ]
    }
   ],
   "source": [
    "classifier = svm.SVC()\n",
    "classifier.fit(pcaXTrain, yTrain)\n",
    "print('Accuracy:', classifier.score(pcaXTest, yTest))\n",
    "predicted = classifier.predict(pcaXTest)\n",
    "precision, recall, f1, support = precision_recall_fscore_support(yTest, predicted, average='macro')\n",
    "print('Precision: {}, recall: {}, F1: {}'.format(precision, recall, f1))"
   ]
  },
  {
   "cell_type": "code",
   "execution_count": 11,
   "metadata": {
    "collapsed": true
   },
   "outputs": [],
   "source": [
    "# HR Employee Dataset - Predicting whether or not employees will leave\n",
    "### Source: Kaggle https://www.kaggle.com/ludobenistant/hr-analytics"
   ]
  },
  {
   "cell_type": "code",
   "execution_count": 19,
   "metadata": {
    "collapsed": false
   },
   "outputs": [
    {
     "name": "stdout",
     "output_type": "stream",
     "text": [
      "Columns: Index(['satisfaction_level', 'last_evaluation', 'number_project',\n",
      "       'average_montly_hours', 'time_spend_company', 'Work_accident', 'left',\n",
      "       'promotion_last_5years', 'enc_IT', 'enc_RandD', 'enc_accounting',\n",
      "       'enc_hr', 'enc_management', 'enc_marketing', 'enc_product_mng',\n",
      "       'enc_sales', 'enc_support', 'enc_technical', 'enc_high', 'enc_low',\n",
      "       'enc_medium'],\n",
      "      dtype='object')\n"
     ]
    },
    {
     "data": {
      "text/html": [
       "<div>\n",
       "<table border=\"1\" class=\"dataframe\">\n",
       "  <thead>\n",
       "    <tr style=\"text-align: right;\">\n",
       "      <th></th>\n",
       "      <th>satisfaction_level</th>\n",
       "      <th>last_evaluation</th>\n",
       "      <th>number_project</th>\n",
       "      <th>average_montly_hours</th>\n",
       "      <th>time_spend_company</th>\n",
       "      <th>Work_accident</th>\n",
       "      <th>left</th>\n",
       "      <th>promotion_last_5years</th>\n",
       "      <th>enc_IT</th>\n",
       "      <th>enc_RandD</th>\n",
       "      <th>...</th>\n",
       "      <th>enc_hr</th>\n",
       "      <th>enc_management</th>\n",
       "      <th>enc_marketing</th>\n",
       "      <th>enc_product_mng</th>\n",
       "      <th>enc_sales</th>\n",
       "      <th>enc_support</th>\n",
       "      <th>enc_technical</th>\n",
       "      <th>enc_high</th>\n",
       "      <th>enc_low</th>\n",
       "      <th>enc_medium</th>\n",
       "    </tr>\n",
       "  </thead>\n",
       "  <tbody>\n",
       "    <tr>\n",
       "      <th>14596</th>\n",
       "      <td>75.0</td>\n",
       "      <td>90.0</td>\n",
       "      <td>5</td>\n",
       "      <td>256</td>\n",
       "      <td>5</td>\n",
       "      <td>0</td>\n",
       "      <td>1</td>\n",
       "      <td>0</td>\n",
       "      <td>0</td>\n",
       "      <td>0</td>\n",
       "      <td>...</td>\n",
       "      <td>0</td>\n",
       "      <td>0</td>\n",
       "      <td>0</td>\n",
       "      <td>0</td>\n",
       "      <td>0</td>\n",
       "      <td>1</td>\n",
       "      <td>0</td>\n",
       "      <td>0</td>\n",
       "      <td>1</td>\n",
       "      <td>0</td>\n",
       "    </tr>\n",
       "    <tr>\n",
       "      <th>5837</th>\n",
       "      <td>79.0</td>\n",
       "      <td>86.0</td>\n",
       "      <td>4</td>\n",
       "      <td>173</td>\n",
       "      <td>4</td>\n",
       "      <td>0</td>\n",
       "      <td>0</td>\n",
       "      <td>0</td>\n",
       "      <td>0</td>\n",
       "      <td>0</td>\n",
       "      <td>...</td>\n",
       "      <td>0</td>\n",
       "      <td>0</td>\n",
       "      <td>0</td>\n",
       "      <td>0</td>\n",
       "      <td>0</td>\n",
       "      <td>0</td>\n",
       "      <td>1</td>\n",
       "      <td>0</td>\n",
       "      <td>1</td>\n",
       "      <td>0</td>\n",
       "    </tr>\n",
       "    <tr>\n",
       "      <th>1848</th>\n",
       "      <td>78.0</td>\n",
       "      <td>86.0</td>\n",
       "      <td>5</td>\n",
       "      <td>274</td>\n",
       "      <td>5</td>\n",
       "      <td>0</td>\n",
       "      <td>1</td>\n",
       "      <td>0</td>\n",
       "      <td>0</td>\n",
       "      <td>0</td>\n",
       "      <td>...</td>\n",
       "      <td>0</td>\n",
       "      <td>0</td>\n",
       "      <td>0</td>\n",
       "      <td>0</td>\n",
       "      <td>1</td>\n",
       "      <td>0</td>\n",
       "      <td>0</td>\n",
       "      <td>0</td>\n",
       "      <td>1</td>\n",
       "      <td>0</td>\n",
       "    </tr>\n",
       "    <tr>\n",
       "      <th>1884</th>\n",
       "      <td>87.0</td>\n",
       "      <td>91.0</td>\n",
       "      <td>5</td>\n",
       "      <td>228</td>\n",
       "      <td>5</td>\n",
       "      <td>0</td>\n",
       "      <td>1</td>\n",
       "      <td>0</td>\n",
       "      <td>0</td>\n",
       "      <td>0</td>\n",
       "      <td>...</td>\n",
       "      <td>0</td>\n",
       "      <td>0</td>\n",
       "      <td>0</td>\n",
       "      <td>0</td>\n",
       "      <td>0</td>\n",
       "      <td>1</td>\n",
       "      <td>0</td>\n",
       "      <td>0</td>\n",
       "      <td>1</td>\n",
       "      <td>0</td>\n",
       "    </tr>\n",
       "    <tr>\n",
       "      <th>3107</th>\n",
       "      <td>74.0</td>\n",
       "      <td>96.0</td>\n",
       "      <td>4</td>\n",
       "      <td>154</td>\n",
       "      <td>4</td>\n",
       "      <td>0</td>\n",
       "      <td>0</td>\n",
       "      <td>0</td>\n",
       "      <td>0</td>\n",
       "      <td>0</td>\n",
       "      <td>...</td>\n",
       "      <td>0</td>\n",
       "      <td>0</td>\n",
       "      <td>0</td>\n",
       "      <td>0</td>\n",
       "      <td>0</td>\n",
       "      <td>1</td>\n",
       "      <td>0</td>\n",
       "      <td>0</td>\n",
       "      <td>0</td>\n",
       "      <td>1</td>\n",
       "    </tr>\n",
       "  </tbody>\n",
       "</table>\n",
       "<p>5 rows × 21 columns</p>\n",
       "</div>"
      ],
      "text/plain": [
       "       satisfaction_level  last_evaluation  number_project  \\\n",
       "14596                75.0             90.0               5   \n",
       "5837                 79.0             86.0               4   \n",
       "1848                 78.0             86.0               5   \n",
       "1884                 87.0             91.0               5   \n",
       "3107                 74.0             96.0               4   \n",
       "\n",
       "       average_montly_hours  time_spend_company  Work_accident  left  \\\n",
       "14596                   256                   5              0     1   \n",
       "5837                    173                   4              0     0   \n",
       "1848                    274                   5              0     1   \n",
       "1884                    228                   5              0     1   \n",
       "3107                    154                   4              0     0   \n",
       "\n",
       "       promotion_last_5years  enc_IT  enc_RandD     ...      enc_hr  \\\n",
       "14596                      0       0          0     ...           0   \n",
       "5837                       0       0          0     ...           0   \n",
       "1848                       0       0          0     ...           0   \n",
       "1884                       0       0          0     ...           0   \n",
       "3107                       0       0          0     ...           0   \n",
       "\n",
       "       enc_management  enc_marketing  enc_product_mng  enc_sales  enc_support  \\\n",
       "14596               0              0                0          0            1   \n",
       "5837                0              0                0          0            0   \n",
       "1848                0              0                0          1            0   \n",
       "1884                0              0                0          0            1   \n",
       "3107                0              0                0          0            1   \n",
       "\n",
       "       enc_technical  enc_high  enc_low  enc_medium  \n",
       "14596              0         0        1           0  \n",
       "5837               1         0        1           0  \n",
       "1848               0         0        1           0  \n",
       "1884               0         0        1           0  \n",
       "3107               0         0        0           1  \n",
       "\n",
       "[5 rows x 21 columns]"
      ]
     },
     "metadata": {},
     "output_type": "display_data"
    }
   ],
   "source": [
    "hrDf = pd.read_csv('data/HR_comma_sep.csv', sep=',').sample(frac=0.1)\n",
    "# hrDf.loc[hrDf['last_evaluation'], 'last_evaluation'] = \n",
    "hrDf['last_evaluation'] *= 100\n",
    "hrDf['satisfaction_level'] *= 100\n",
    "# display(hrDf.head())\n",
    "# encoder = OneHotEncoder()\n",
    "# print(hrDf['sales'])\n",
    "# encoder.fit(hrDf['sales'])\n",
    "# hrDf['encodedSales'] = encoder.transform(hrDf['sales'])\n",
    "# display(hrDf.head())\n",
    "yCol = 'left'\n",
    "hrDf = pd.get_dummies(hrDf, 'enc', columns=categoricalColumns)\n",
    "xCols = [col for col in hrDf.columns if col != yCol]\n",
    "print('Columns:', hrDf.columns)\n",
    "display(hrDf.head())"
   ]
  },
  {
   "cell_type": "code",
   "execution_count": 32,
   "metadata": {
    "collapsed": true
   },
   "outputs": [],
   "source": [
    "numTraining = int(len(hrDf) * trainProp)\n",
    "noShows = shuffle(hrDf)\n",
    "pca = PCA()\n",
    "newX = pca.fit_transform(hrDf[xCols].values, 8)\n",
    "x = hrDf[xCols]\n",
    "y = hrDf[yCol]\n",
    "xTrain, xTest = x[:numTraining], x[numTraining:]\n",
    "pcaXTrain, pcaXTest = newX[:numTraining], newX[numTraining:]\n",
    "yTrain, yTest = y[:numTraining], y[numTraining:]"
   ]
  },
  {
   "cell_type": "markdown",
   "metadata": {},
   "source": [
    "## SVM Classifying Untransformed Data"
   ]
  },
  {
   "cell_type": "code",
   "execution_count": 33,
   "metadata": {
    "collapsed": false
   },
   "outputs": [
    {
     "name": "stdout",
     "output_type": "stream",
     "text": [
      "Accuracy: 0.906666666667\n",
      "Precision: 0.9356813259252283, recall: 0.7963615399397861, F1: 0.8419150858175247\n"
     ]
    }
   ],
   "source": [
    "classifier = svm.SVC()\n",
    "classifier.fit(xTrain, yTrain)\n",
    "print('Accuracy:', classifier.score(xTest, yTest))\n",
    "predicted = classifier.predict(xTest)\n",
    "precision, recall, f1, support = precision_recall_fscore_support(yTest, predicted, average='macro')\n",
    "print('Precision: {}, recall: {}, F1: {}'.format(precision, recall, f1))"
   ]
  },
  {
   "cell_type": "markdown",
   "metadata": {},
   "source": [
    "## SVM Classifying PCA Transformed Data (8 components)"
   ]
  },
  {
   "cell_type": "code",
   "execution_count": 34,
   "metadata": {
    "collapsed": false
   },
   "outputs": [
    {
     "name": "stdout",
     "output_type": "stream",
     "text": [
      "Accuracy: 0.883333333333\n",
      "Precision: 0.9347014925373134, recall: 0.7388059701492538, F1: 0.7883021835117643\n"
     ]
    }
   ],
   "source": [
    "classifier = svm.SVC()\n",
    "classifier.fit(pcaXTrain, yTrain)\n",
    "print('Accuracy:', classifier.score(pcaXTest, yTest))\n",
    "predicted = classifier.predict(pcaXTest)\n",
    "precision, recall, f1, support = precision_recall_fscore_support(yTest, predicted, average='macro')\n",
    "print('Precision: {}, recall: {}, F1: {}'.format(precision, recall, f1))"
   ]
  }
 ],
 "metadata": {
  "anaconda-cloud": {},
  "kernelspec": {
   "display_name": "Python 3",
   "language": "python",
   "name": "python3"
  },
  "language_info": {
   "codemirror_mode": {
    "name": "ipython",
    "version": 3
   },
   "file_extension": ".py",
   "mimetype": "text/x-python",
   "name": "python",
   "nbconvert_exporter": "python",
   "pygments_lexer": "ipython3",
   "version": "3.5.2"
  }
 },
 "nbformat": 4,
 "nbformat_minor": 1
}
